{
 "cells": [
  {
   "cell_type": "markdown",
   "id": "39b2c109-c4ac-4e47-a22f-cb2c7aede2ec",
   "metadata": {},
   "source": [
    "# Fit sliding window of stock markets"
   ]
  },
  {
   "cell_type": "code",
   "execution_count": 12,
   "id": "de12a53a-a647-4a5a-a11c-a20bb4199a25",
   "metadata": {},
   "outputs": [],
   "source": [
    "import os\n",
    "import os.path as osp\n",
    "import numpy as np"
   ]
  },
  {
   "cell_type": "code",
   "execution_count": 27,
   "id": "548c59a2-830d-4a59-8f8c-fc7a55006078",
   "metadata": {},
   "outputs": [
    {
     "name": "stdout",
     "output_type": "stream",
     "text": [
      "38.154682\n",
      "70.451347\n",
      "\n",
      "54.860165\n",
      "80.417709\n",
      "\n",
      "\n",
      "\n"
     ]
    },
    {
     "name": "stderr",
     "output_type": "stream",
     "text": [
      "<ipython-input-27-0084bf63c028>:26: DeprecationWarning: `np.float` is a deprecated alias for the builtin `float`. To silence this warning, use `float` by itself. Doing this will not modify any behavior and is safe. If you specifically wanted the numpy scalar type, use `np.float64` here.\n",
      "Deprecated in NumPy 1.20; for more details and guidance: https://numpy.org/devdocs/release/1.20.0-notes.html#deprecations\n",
      "  train = np.asarray(train, np.float)\n",
      "<ipython-input-27-0084bf63c028>:30: DeprecationWarning: `np.float` is a deprecated alias for the builtin `float`. To silence this warning, use `float` by itself. Doing this will not modify any behavior and is safe. If you specifically wanted the numpy scalar type, use `np.float64` here.\n",
      "Deprecated in NumPy 1.20; for more details and guidance: https://numpy.org/devdocs/release/1.20.0-notes.html#deprecations\n",
      "  data_min, data_max = list(map(lambda x: np.float(x), raw_data[0].split(' ')))\n",
      "<ipython-input-27-0084bf63c028>:32: DeprecationWarning: `np.float` is a deprecated alias for the builtin `float`. To silence this warning, use `float` by itself. Doing this will not modify any behavior and is safe. If you specifically wanted the numpy scalar type, use `np.float64` here.\n",
      "Deprecated in NumPy 1.20; for more details and guidance: https://numpy.org/devdocs/release/1.20.0-notes.html#deprecations\n",
      "  test = np.asarray(test, np.float)\n"
     ]
    },
    {
     "ename": "ValueError",
     "evalue": "not enough values to unpack (expected 2, got 1)",
     "output_type": "error",
     "traceback": [
      "\u001b[0;31m---------------------------------------------------------------------------\u001b[0m",
      "\u001b[0;31mValueError\u001b[0m                                Traceback (most recent call last)",
      "Cell \u001b[0;32mIn [27], line 24\u001b[0m\n\u001b[1;32m     22\u001b[0m \u001b[38;5;28;01mwith\u001b[39;00m \u001b[38;5;28mopen\u001b[39m(data_path_base \u001b[38;5;241m+\u001b[39m \u001b[38;5;124m'\u001b[39m\u001b[38;5;124m_train.txt\u001b[39m\u001b[38;5;124m'\u001b[39m, \u001b[38;5;124m'\u001b[39m\u001b[38;5;124mr\u001b[39m\u001b[38;5;124m'\u001b[39m) \u001b[38;5;28;01mas\u001b[39;00m f:\n\u001b[1;32m     23\u001b[0m     raw_data \u001b[38;5;241m=\u001b[39m f\u001b[38;5;241m.\u001b[39mreadlines()\n\u001b[0;32m---> 24\u001b[0m     data_min, data_max \u001b[38;5;241m=\u001b[39m \u001b[38;5;28mlist\u001b[39m(\u001b[38;5;28mmap\u001b[39m(\u001b[38;5;28;01mlambda\u001b[39;00m x: \u001b[38;5;28mprint\u001b[39m(x), raw_data[\u001b[38;5;241m0\u001b[39m]\u001b[38;5;241m.\u001b[39msplit(\u001b[38;5;124m'\u001b[39m\u001b[38;5;124m \u001b[39m\u001b[38;5;124m'\u001b[39m)))\n\u001b[1;32m     25\u001b[0m     train \u001b[38;5;241m=\u001b[39m \u001b[38;5;28mlist\u001b[39m(\u001b[38;5;28mmap\u001b[39m(\u001b[38;5;28;01mlambda\u001b[39;00m l: l\u001b[38;5;241m.\u001b[39mstrip()\u001b[38;5;241m.\u001b[39msplit(\u001b[38;5;124m'\u001b[39m\u001b[38;5;124m \u001b[39m\u001b[38;5;124m'\u001b[39m), raw_data[\u001b[38;5;241m1\u001b[39m:]))\n\u001b[1;32m     26\u001b[0m     train \u001b[38;5;241m=\u001b[39m np\u001b[38;5;241m.\u001b[39masarray(train, np\u001b[38;5;241m.\u001b[39mfloat)\n",
      "\u001b[0;31mValueError\u001b[0m: not enough values to unpack (expected 2, got 1)"
     ]
    }
   ],
   "source": [
    "import shutil\n",
    "\n",
    "data_path_base = '../data/Bayesianneuralnet_stockmarket/code/datasets'\n",
    "def reset_folder(path):\n",
    "    if not osp.exists(temp_dir):\n",
    "        os.makedirs(path)\n",
    "    else:\n",
    "        shutil.rmtree(path)\n",
    "        os.makedirs(path)\n",
    "\n",
    "for d in os.listdir(\"../data/Bayesianneuralnet_stockmarket/code/datasets/raw\"):\n",
    "    if osp.isfile(osp.join('../data/Bayesianneuralnet_stockmarket/code/datasets/raw', d)):\n",
    "        name = osp.splitext(d)[0]\n",
    "    data_path_base = '../data/Bayesianneuralnet_stockmarket/code/datasets/' + name\n",
    "\n",
    "    timesteps = 5\n",
    "    steps_ahead = 5\n",
    "\n",
    "    data_min = 0\n",
    "    data_max = 1\n",
    "\n",
    "    with open(data_path_base + '_train.txt', 'r') as f:\n",
    "        raw_data = f.readlines()\n",
    "        data_min, data_max = list(map(lambda x: print(x), raw_data[0].split(' ')))\n",
    "        train = list(map(lambda l: l.strip().split(' '), raw_data[1:]))\n",
    "        train = np.asarray(train, np.float)\n",
    "\n",
    "    with open(data_path_base + '_test.txt', 'r') as f:\n",
    "        raw_data = f.readlines()\n",
    "        data_min, data_max = list(map(lambda x: np.float(x), raw_data[0].split(' ')))\n",
    "        test = list(map(lambda l: l.strip().split(' '), raw_data[1:]))\n",
    "        test = np.asarray(test, np.float)\n",
    "\n",
    "    if steps_ahead == 1:\n",
    "        result_dir = 'one_step_results/' + name\n",
    "        temp_dir = 'one_step_problemfolder/' + name + '/nns_temp'\n",
    "    else:\n",
    "        result_dir = 'results/' + name\n",
    "        temp_dir = 'problemfolder/' + name + '/nns_temp'\n",
    "\n",
    "    reset_folder(temp_dir)\n",
    "\n",
    "    assert timesteps + steps_ahead <= train.shape[-1]\n",
    "    train_x = train[:, :timesteps]\n",
    "    train_y = train[:, timesteps: timesteps + steps_ahead]\n",
    "\n",
    "    test_x = test[:, :timesteps]\n",
    "    test_y = test[:, timesteps: timesteps + steps_ahead]"
   ]
  },
  {
   "cell_type": "code",
   "execution_count": 32,
   "id": "9dffe033-bbb6-418f-8073-868ade5fc193",
   "metadata": {},
   "outputs": [
    {
     "data": {
      "text/plain": [
       "(804, 10)"
      ]
     },
     "execution_count": 32,
     "metadata": {},
     "output_type": "execute_result"
    }
   ],
   "source": [
    "data_path_base = '../data/Bayesianneuralnet_stockmarket/code/datasets'\n",
    "\n",
    "# horizon\n",
    "timesteps = 5\n",
    "steps_ahead = 5\n",
    "\n",
    "# load\n",
    "train = np.loadtxt(open(os.path.join(data_path_base, \"MMM8_train.txt\")))\n",
    "train.shape"
   ]
  },
  {
   "cell_type": "code",
   "execution_count": 33,
   "id": "d6283325-7032-49fa-b23d-c05e27ed1d35",
   "metadata": {},
   "outputs": [
    {
     "data": {
      "text/plain": [
       "array([[5.54000e-04, 3.73900e-03, 1.98500e-03, ..., 4.20000e-03,\n",
       "        1.06200e-03, 3.97000e-03],\n",
       "       [1.98500e-03, 0.00000e+00, 2.30800e-03, ..., 3.97000e-03,\n",
       "        7.84700e-03, 1.12160e-02],\n",
       "       [2.30800e-03, 4.29300e-03, 1.84600e-03, ..., 1.12160e-02,\n",
       "        1.05240e-02, 1.03390e-02],\n",
       "       ...,\n",
       "       [6.93515e-01, 7.01704e-01, 6.94112e-01, ..., 6.94491e-01,\n",
       "        6.76650e-01, 6.92593e-01],\n",
       "       [6.94112e-01, 7.09296e-01, 6.94166e-01, ..., 6.92593e-01,\n",
       "        6.84730e-01, 6.97528e-01],\n",
       "       [6.94166e-01, 6.92539e-01, 6.96552e-01, ..., 6.97528e-01,\n",
       "        7.05500e-01, 7.06259e-01]])"
      ]
     },
     "execution_count": 33,
     "metadata": {},
     "output_type": "execute_result"
    }
   ],
   "source": [
    "train"
   ]
  },
  {
   "cell_type": "code",
   "execution_count": 48,
   "id": "d4b8af29-eb8d-445d-96fd-51637914aef3",
   "metadata": {},
   "outputs": [],
   "source": [
    "x_train = train[:, :timesteps]\n",
    "y_train = train[:, timesteps: timesteps + steps_ahead]\n",
    "xy_train = (x_train, y_train)"
   ]
  },
  {
   "cell_type": "code",
   "execution_count": 49,
   "id": "7b744caa-7eee-4d0b-9fd0-5487ae8e6c5c",
   "metadata": {},
   "outputs": [
    {
     "data": {
      "text/plain": [
       "(804, 5)"
      ]
     },
     "execution_count": 49,
     "metadata": {},
     "output_type": "execute_result"
    }
   ],
   "source": [
    "train_x.shape"
   ]
  },
  {
   "cell_type": "code",
   "execution_count": 50,
   "id": "bdc8eda2-4b20-4c7f-9a31-c553e5c0dcbb",
   "metadata": {},
   "outputs": [
    {
     "data": {
      "text/plain": [
       "(804, 5)"
      ]
     },
     "execution_count": 50,
     "metadata": {},
     "output_type": "execute_result"
    }
   ],
   "source": [
    "train_y.shape"
   ]
  },
  {
   "cell_type": "code",
   "execution_count": 51,
   "id": "feb1e4af-7146-4f72-8158-b3c862f0a07a",
   "metadata": {},
   "outputs": [],
   "source": [
    "## BNN training\n",
    "# %%\n",
    "import numpy as np\n",
    "np.random.seed(0)\n",
    "\n",
    "import haiku as hk\n",
    "\n",
    "import jax.numpy as jnp\n",
    "import jax\n",
    "\n",
    "from tqdm import tqdm, trange\n",
    "from matplotlib import pyplot as plt\n",
    "\n",
    "from jax_bayes.utils import confidence_bands\n",
    "from jax_bayes.mcmc import (\n",
    "\t# langevin_fns,\n",
    "\tmala_fns,\n",
    "\t# hmc_fns,\n",
    ")\n",
    "\n",
    "#could use any of the samplers modulo hyperparameters\n",
    "# sampler_fns = hmc_fns\n",
    "# sampler_fns = langevin_fns\n",
    "sampler_fns = mala_fns\n",
    "\n",
    "def build_dataset():\n",
    "\tn_train, n_test, d = 200, 100, 1\n",
    "\txlims = [-1.0, 5.0]\n",
    "\tx_train = np.random.rand(n_train, d) * (xlims[1] - xlims[0]) + xlims[0]\n",
    "\tx_test = np.random.rand(n_test, d) * (xlims[1] - xlims[0]) + xlims[0]\n",
    "\n",
    "\ttarget_func = lambda t: (np.log(t + 100.0) * np.sin(1.0 * np.pi*t)) + 0.1 * t\n",
    "\n",
    "\ty_train = target_func(x_train)\n",
    "\ty_test = target_func(x_test)\n",
    "\n",
    "\ty_train += np.random.randn(*x_train.shape) * (1.0 * (x_train + 2.0)**0.5)\n",
    "\n",
    "\treturn (x_train, y_train), (x_test, y_test)\n",
    "\n",
    "def net_fn(x):\n",
    "\n",
    "\tmlp = hk.Sequential([\n",
    "\t\thk.Linear(128, w_init=hk.initializers.Constant(0), \n",
    "\t\t\t\t\t   b_init=hk.initializers.Constant(0)), \n",
    "\t\tjnp.tanh, \n",
    "\t\thk.Linear(1,   w_init=hk.initializers.Constant(0), \n",
    "\t\t\t\t\t   b_init=hk.initializers.Constant(0))\n",
    "\t\t])\n",
    "\n",
    "\treturn mlp(x)"
   ]
  },
  {
   "cell_type": "code",
   "execution_count": 52,
   "id": "4084ea96-e52e-4761-8bd8-8a48d828246b",
   "metadata": {},
   "outputs": [],
   "source": [
    "lr = 1e-4\n",
    "reg = 0.1\n",
    "lik_var = 0.5\n",
    "\n",
    "net = hk.transform(net_fn)\n",
    "key = jax.random.PRNGKey(0)\n",
    "\n",
    "sampler_init, sampler_propose, sampler_accept, sampler_update, sampler_get_params = \\\n",
    "    sampler_fns(key, num_samples=10, step_size=lr, init_stddev=5.0)"
   ]
  },
  {
   "cell_type": "code",
   "execution_count": 53,
   "id": "77ee855e-215d-4e9c-9ecd-273090e06e86",
   "metadata": {},
   "outputs": [],
   "source": [
    "def logprob(params, xy):\n",
    "    \"\"\" log posterior, assuming \n",
    "    P(params) ~ N(0,eta)\n",
    "    P(y|x, params) ~ N(f(x;params), lik_var)\n",
    "    \"\"\"\n",
    "    x, y = xy\n",
    "\n",
    "    preds = net.apply(params, None, x)\n",
    "    log_prior = - reg * sum(jnp.sum(jnp.square(p)) \n",
    "                        for p in jax.tree_leaves(params))\n",
    "    log_lik = - jnp.mean(jnp.square(preds - y)) / lik_var\n",
    "    return log_lik + log_prior\n",
    "\n",
    "@jax.jit\n",
    "def sampler_step(i, state, keys, batch):\n",
    "    # print(state)\n",
    "    # input()\n",
    "    params = sampler_get_params(state)\n",
    "    logp = lambda params:logprob(params, batch)\n",
    "    fx, dx = jax.vmap(jax.value_and_grad(logp))(params)\n",
    "\n",
    "    fx_prop, dx_prop = fx, dx\n",
    "    # fx_prop, prop_state, dx_prop, new_keys = fx, state, dx, keys\n",
    "    prop_state, keys = sampler_propose(i, dx, state, keys)\n",
    "\n",
    "    # for RK-langevin and MALA --- recompute gradients\n",
    "    prop_params = sampler_get_params(prop_state)\n",
    "    fx_prop, dx_prop = jax.vmap(jax.value_and_grad(logp))(prop_params)\n",
    "\n",
    "    # for HMC\n",
    "    # prop_state, dx_prop, keys = state, dx, keys\n",
    "    # for j in range(5): #5 iterations of the leapfrog integrator\n",
    "    # \tprop_state, keys = \\\n",
    "    # \t\tsampler_propose(i, dx_prop, prop_state, keys)\n",
    "\n",
    "    # \tprop_params = sampler_get_params(prop_state)\n",
    "    # \tfx_prop, dx_prop = jax.vmap(jax.value_and_grad(logp))(prop_params)\n",
    "\n",
    "    accept_idxs, keys = sampler_accept(\n",
    "        i, fx, fx_prop, dx, state, dx_prop, prop_state, keys\n",
    "    )\n",
    "    state, keys = sampler_update(\n",
    "        i, accept_idxs, dx, state, dx_prop, prop_state, keys\n",
    "    )\n",
    "\n",
    "\n",
    "    return state, keys"
   ]
  },
  {
   "cell_type": "code",
   "execution_count": 54,
   "id": "40c01b7e-dd32-4aa0-b9f8-9aa98428d1e8",
   "metadata": {},
   "outputs": [
    {
     "name": "stderr",
     "output_type": "stream",
     "text": [
      "  0%|          | 0/5000 [00:00<?, ?it/s]<ipython-input-53-34c999bbf60f>:10: FutureWarning: jax.tree_leaves is deprecated, and will be removed in a future release. Use jax.tree_util.tree_leaves instead.\n",
      "  for p in jax.tree_leaves(params))\n",
      "100%|██████████| 5000/5000 [00:20<00:00, 240.24it/s]\n"
     ]
    }
   ],
   "source": [
    "# initialization\n",
    "params = net.init(jax.random.PRNGKey(42), x_train)\n",
    "sampler_state, sampler_keys = sampler_init(params)\n",
    "\n",
    "#do the sampling\n",
    "for step in trange(5000):\n",
    "    # if step % 250 == 0:\n",
    "    if False:\n",
    "        sampler_params = sampler_get_params(sampler_state)\n",
    "        logp = lambda params:logprob(params, xy_train)\n",
    "        train_logp = jnp.mean(jax.vmap(logp)(sampler_params))\n",
    "        logp = lambda params:logprob(params, xy_test )\n",
    "        test_logp = jnp.mean(jax.vmap(logp)(sampler_params))\n",
    "        print(f\"step = {step}\"\n",
    "              f\" | train logp = {train_logp:.3f}\"\n",
    "              f\" | test logp = {test_logp:.3f}\")\n",
    "\n",
    "    sampler_state, sampler_keys = \\\n",
    "        sampler_step(step, sampler_state, sampler_keys, xy_train)\n",
    "\n",
    "\n",
    "sampler_params = sampler_get_params(sampler_state)"
   ]
  },
  {
   "cell_type": "code",
   "execution_count": 75,
   "id": "7d8498cb-d609-488f-8120-235c2603871a",
   "metadata": {},
   "outputs": [
    {
     "data": {
      "text/plain": [
       "(10, 804, 1)"
      ]
     },
     "execution_count": 75,
     "metadata": {},
     "output_type": "execute_result"
    }
   ],
   "source": [
    "outputs = jax.vmap(net.apply, in_axes=(0, None, None))(sampler_params, None, x_train)\n",
    "outputs.shape"
   ]
  },
  {
   "cell_type": "code",
   "execution_count": 64,
   "id": "9da63484-3690-4725-a09b-5c9be362b04b",
   "metadata": {},
   "outputs": [],
   "source": [
    "x = jax.device_put(outputs)"
   ]
  },
  {
   "cell_type": "code",
   "execution_count": 71,
   "id": "20ec8ca4-f39c-4fef-b661-885ff83f25c8",
   "metadata": {},
   "outputs": [
    {
     "data": {
      "text/plain": [
       "[<matplotlib.lines.Line2D at 0x13f61b6d0>]"
      ]
     },
     "execution_count": 71,
     "metadata": {},
     "output_type": "execute_result"
    },
    {
     "data": {
      "image/png": "[encoded data removed]",
      "text/plain": [
       "<Figure size 432x288 with 1 Axes>"
      ]
     },
     "metadata": {
      "needs_background": "light"
     },
     "output_type": "display_data"
    }
   ],
   "source": [
    "plt.plot(outputs[0,:])"
   ]
  },
  {
   "cell_type": "code",
   "execution_count": 73,
   "id": "f03e1115-302a-4f65-b8e3-6c896016483b",
   "metadata": {},
   "outputs": [
    {
     "data": {
      "text/plain": [
       "(804, 5)"
      ]
     },
     "execution_count": 73,
     "metadata": {},
     "output_type": "execute_result"
    }
   ],
   "source": [
    "y_train.shape"
   ]
  },
  {
   "cell_type": "code",
   "execution_count": 81,
   "id": "06f36f3f-e7e7-4a6b-a7f3-49619d5777f8",
   "metadata": {},
   "outputs": [
    {
     "data": {
      "text/plain": [
       "[<matplotlib.lines.Line2D at 0x13ff1bd00>]"
      ]
     },
     "execution_count": 81,
     "metadata": {},
     "output_type": "execute_result"
    },
    {
     "data": {
      "image/png": "[encoded data removed]",
      "text/plain": [
       "<Figure size 432x288 with 1 Axes>"
      ]
     },
     "metadata": {
      "needs_background": "light"
     },
     "output_type": "display_data"
    }
   ],
   "source": [
    "plt.plot(y_train[:,0])"
   ]
  },
  {
   "cell_type": "code",
   "execution_count": null,
   "id": "6272ddcb-fc93-46b6-b839-bf654f0ffd6d",
   "metadata": {},
   "outputs": [],
   "source": []
  }
 ],
 "metadata": {
  "kernelspec": {
   "display_name": "Python 3",
   "language": "python",
   "name": "python3"
  },
  "language_info": {
   "codemirror_mode": {
    "name": "ipython",
    "version": 3
   },
   "file_extension": ".py",
   "mimetype": "text/x-python",
   "name": "python",
   "nbconvert_exporter": "python",
   "pygments_lexer": "ipython3",
   "version": "3.9.12"
  }
 },
 "nbformat": 4,
 "nbformat_minor": 5
}
