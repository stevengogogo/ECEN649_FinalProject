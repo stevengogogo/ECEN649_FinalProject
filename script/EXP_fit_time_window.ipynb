{
 "cells": [
  {
   "cell_type": "markdown",
   "id": "39b2c109-c4ac-4e47-a22f-cb2c7aede2ec",
   "metadata": {},
   "source": [
    "# Fit sliding window of stock markets"
   ]
  },
  {
   "cell_type": "code",
   "execution_count": 167,
   "id": "de12a53a-a647-4a5a-a11c-a20bb4199a25",
   "metadata": {},
   "outputs": [],
   "source": [
    "import os\n",
    "import os.path as osp\n",
    "import numpy as np\n",
    "# %%\n",
    "import numpy as np\n",
    "np.random.seed(0)\n",
    "\n",
    "import haiku as hk\n",
    "import pandas as pd\n",
    "import jax.numpy as jnp\n",
    "import jax\n",
    "\n",
    "from tqdm import tqdm, trange\n",
    "from matplotlib import pyplot as plt\n",
    "\n",
    "from jax_bayes.utils import confidence_bands\n",
    "from jax_bayes.mcmc import (\n",
    "\t# langevin_fns,\n",
    "\tmala_fns,\n",
    "\t# hmc_fns,\n",
    ")\n"
   ]
  },
  {
   "cell_type": "markdown",
   "id": "59b42026-b9bc-4535-82b8-138d17357108",
   "metadata": {},
   "source": [
    "## Data processing\n",
    "\n",
    "The original data set is $x_t = \\{x_{1}, ..., x_{Total}\\}$, the training input is a matrix with dimension $m \\times s$ (where m is the capture window, and $s$ is the number of samples). The sample is produced by shifting the original time series with lag of $2$.\n",
    "\n",
    "\n",
    "- Training set\n",
    "\n",
    "$$\\bar{x}_t = \n",
    "\\underbrace{\\begin{bmatrix}\n",
    "    x_{1+(t-1)T} & \\cdots & x_{m+(t-1)T}\\\\\n",
    "    x_{3+(t-1)T} & \\cdots & x_{2m+3+(t-1)T}\\\\\n",
    "    \\vdots & \\vdots & \\vdots \n",
    "\\end{bmatrix}}_{\\text{m(Capture windows)}}\n",
    "$$\n",
    "\n",
    "\n",
    "$$y_t = \n",
    "\\underbrace{\\begin{bmatrix}\n",
    "    x_{m+(t-1)T + 1} & \\cdots & x_{m+(t-1)T+ n}\\\\\n",
    "    x_{2m+3+(t-1)T + 1} & \\cdots & x_{2m+3+(t-1)T+ n}\\\\\n",
    "    \\vdots & \\vdots & \\vdots\n",
    "\\end{bmatrix}}_{\\text{n (Prediction Horizons)}}\n",
    "$$\n",
    "\n",
    "\n",
    "- $m$: embedding dimension (predicting horizon)\n",
    "- $T$: time lag\n",
    "\n"
   ]
  },
  {
   "cell_type": "code",
   "execution_count": 253,
   "id": "9dffe033-bbb6-418f-8073-868ade5fc193",
   "metadata": {},
   "outputs": [
    {
     "data": {
      "text/plain": [
       "(804, 10)"
      ]
     },
     "execution_count": 253,
     "metadata": {},
     "output_type": "execute_result"
    }
   ],
   "source": [
    "data_path_base = '../data/Bayesianneuralnet_stockmarket/code/datasets'\n",
    "\n",
    "def get_orig(sig, shift=2):\n",
    "    return np.concatenate((sig[0,:].ravel(), sig[1:,-shift:].ravel()))\n",
    "    \n",
    "\n",
    "# horizon\n",
    "timesteps = 5\n",
    "steps_ahead = 5\n",
    "\n",
    "# load\n",
    "train = np.loadtxt(open(os.path.join(data_path_base, \"MMM8_train.txt\")))\n",
    "train.shape"
   ]
  },
  {
   "cell_type": "code",
   "execution_count": 254,
   "id": "d4f6aa51-d384-47cb-b34d-d012f6fad5da",
   "metadata": {},
   "outputs": [
    {
     "data": {
      "text/html": [
       "<div>\n",
       "<style scoped>\n",
       "    .dataframe tbody tr th:only-of-type {\n",
       "        vertical-align: middle;\n",
       "    }\n",
       "\n",
       "    .dataframe tbody tr th {\n",
       "        vertical-align: top;\n",
       "    }\n",
       "\n",
       "    .dataframe thead th {\n",
       "        text-align: right;\n",
       "    }\n",
       "</style>\n",
       "<table border=\"1\" class=\"dataframe\">\n",
       "  <thead>\n",
       "    <tr style=\"text-align: right;\">\n",
       "      <th></th>\n",
       "      <th>0</th>\n",
       "      <th>1</th>\n",
       "      <th>2</th>\n",
       "      <th>3</th>\n",
       "      <th>4</th>\n",
       "      <th>5</th>\n",
       "      <th>6</th>\n",
       "      <th>7</th>\n",
       "      <th>8</th>\n",
       "      <th>9</th>\n",
       "    </tr>\n",
       "  </thead>\n",
       "  <tbody>\n",
       "    <tr>\n",
       "      <th>0</th>\n",
       "      <td>0.000554</td>\n",
       "      <td>0.003739</td>\n",
       "      <td>0.001985</td>\n",
       "      <td>0.000000</td>\n",
       "      <td>0.002308</td>\n",
       "      <td>0.004293</td>\n",
       "      <td>0.001846</td>\n",
       "      <td>0.004200</td>\n",
       "      <td>0.001062</td>\n",
       "      <td>0.003970</td>\n",
       "    </tr>\n",
       "    <tr>\n",
       "      <th>1</th>\n",
       "      <td>0.001985</td>\n",
       "      <td>0.000000</td>\n",
       "      <td>0.002308</td>\n",
       "      <td>0.004293</td>\n",
       "      <td>0.001846</td>\n",
       "      <td>0.004200</td>\n",
       "      <td>0.001062</td>\n",
       "      <td>0.003970</td>\n",
       "      <td>0.007847</td>\n",
       "      <td>0.011216</td>\n",
       "    </tr>\n",
       "    <tr>\n",
       "      <th>2</th>\n",
       "      <td>0.002308</td>\n",
       "      <td>0.004293</td>\n",
       "      <td>0.001846</td>\n",
       "      <td>0.004200</td>\n",
       "      <td>0.001062</td>\n",
       "      <td>0.003970</td>\n",
       "      <td>0.007847</td>\n",
       "      <td>0.011216</td>\n",
       "      <td>0.010524</td>\n",
       "      <td>0.010339</td>\n",
       "    </tr>\n",
       "    <tr>\n",
       "      <th>3</th>\n",
       "      <td>0.001846</td>\n",
       "      <td>0.004200</td>\n",
       "      <td>0.001062</td>\n",
       "      <td>0.003970</td>\n",
       "      <td>0.007847</td>\n",
       "      <td>0.011216</td>\n",
       "      <td>0.010524</td>\n",
       "      <td>0.010339</td>\n",
       "      <td>0.011816</td>\n",
       "      <td>0.014355</td>\n",
       "    </tr>\n",
       "    <tr>\n",
       "      <th>4</th>\n",
       "      <td>0.001062</td>\n",
       "      <td>0.003970</td>\n",
       "      <td>0.007847</td>\n",
       "      <td>0.011216</td>\n",
       "      <td>0.010524</td>\n",
       "      <td>0.010339</td>\n",
       "      <td>0.011816</td>\n",
       "      <td>0.014355</td>\n",
       "      <td>0.019432</td>\n",
       "      <td>0.018879</td>\n",
       "    </tr>\n",
       "    <tr>\n",
       "      <th>...</th>\n",
       "      <td>...</td>\n",
       "      <td>...</td>\n",
       "      <td>...</td>\n",
       "      <td>...</td>\n",
       "      <td>...</td>\n",
       "      <td>...</td>\n",
       "      <td>...</td>\n",
       "      <td>...</td>\n",
       "      <td>...</td>\n",
       "      <td>...</td>\n",
       "    </tr>\n",
       "    <tr>\n",
       "      <th>799</th>\n",
       "      <td>0.719476</td>\n",
       "      <td>0.720176</td>\n",
       "      <td>0.723407</td>\n",
       "      <td>0.705364</td>\n",
       "      <td>0.693515</td>\n",
       "      <td>0.701704</td>\n",
       "      <td>0.694112</td>\n",
       "      <td>0.709296</td>\n",
       "      <td>0.694166</td>\n",
       "      <td>0.692539</td>\n",
       "    </tr>\n",
       "    <tr>\n",
       "      <th>800</th>\n",
       "      <td>0.723407</td>\n",
       "      <td>0.705364</td>\n",
       "      <td>0.693515</td>\n",
       "      <td>0.701704</td>\n",
       "      <td>0.694112</td>\n",
       "      <td>0.709296</td>\n",
       "      <td>0.694166</td>\n",
       "      <td>0.692539</td>\n",
       "      <td>0.696552</td>\n",
       "      <td>0.694491</td>\n",
       "    </tr>\n",
       "    <tr>\n",
       "      <th>801</th>\n",
       "      <td>0.693515</td>\n",
       "      <td>0.701704</td>\n",
       "      <td>0.694112</td>\n",
       "      <td>0.709296</td>\n",
       "      <td>0.694166</td>\n",
       "      <td>0.692539</td>\n",
       "      <td>0.696552</td>\n",
       "      <td>0.694491</td>\n",
       "      <td>0.676650</td>\n",
       "      <td>0.692593</td>\n",
       "    </tr>\n",
       "    <tr>\n",
       "      <th>802</th>\n",
       "      <td>0.694112</td>\n",
       "      <td>0.709296</td>\n",
       "      <td>0.694166</td>\n",
       "      <td>0.692539</td>\n",
       "      <td>0.696552</td>\n",
       "      <td>0.694491</td>\n",
       "      <td>0.676650</td>\n",
       "      <td>0.692593</td>\n",
       "      <td>0.684730</td>\n",
       "      <td>0.697528</td>\n",
       "    </tr>\n",
       "    <tr>\n",
       "      <th>803</th>\n",
       "      <td>0.694166</td>\n",
       "      <td>0.692539</td>\n",
       "      <td>0.696552</td>\n",
       "      <td>0.694491</td>\n",
       "      <td>0.676650</td>\n",
       "      <td>0.692593</td>\n",
       "      <td>0.684730</td>\n",
       "      <td>0.697528</td>\n",
       "      <td>0.705500</td>\n",
       "      <td>0.706259</td>\n",
       "    </tr>\n",
       "  </tbody>\n",
       "</table>\n",
       "<p>804 rows × 10 columns</p>\n",
       "</div>"
      ],
      "text/plain": [
       "            0         1         2         3         4         5         6  \\\n",
       "0    0.000554  0.003739  0.001985  0.000000  0.002308  0.004293  0.001846   \n",
       "1    0.001985  0.000000  0.002308  0.004293  0.001846  0.004200  0.001062   \n",
       "2    0.002308  0.004293  0.001846  0.004200  0.001062  0.003970  0.007847   \n",
       "3    0.001846  0.004200  0.001062  0.003970  0.007847  0.011216  0.010524   \n",
       "4    0.001062  0.003970  0.007847  0.011216  0.010524  0.010339  0.011816   \n",
       "..        ...       ...       ...       ...       ...       ...       ...   \n",
       "799  0.719476  0.720176  0.723407  0.705364  0.693515  0.701704  0.694112   \n",
       "800  0.723407  0.705364  0.693515  0.701704  0.694112  0.709296  0.694166   \n",
       "801  0.693515  0.701704  0.694112  0.709296  0.694166  0.692539  0.696552   \n",
       "802  0.694112  0.709296  0.694166  0.692539  0.696552  0.694491  0.676650   \n",
       "803  0.694166  0.692539  0.696552  0.694491  0.676650  0.692593  0.684730   \n",
       "\n",
       "            7         8         9  \n",
       "0    0.004200  0.001062  0.003970  \n",
       "1    0.003970  0.007847  0.011216  \n",
       "2    0.011216  0.010524  0.010339  \n",
       "3    0.010339  0.011816  0.014355  \n",
       "4    0.014355  0.019432  0.018879  \n",
       "..        ...       ...       ...  \n",
       "799  0.709296  0.694166  0.692539  \n",
       "800  0.692539  0.696552  0.694491  \n",
       "801  0.694491  0.676650  0.692593  \n",
       "802  0.692593  0.684730  0.697528  \n",
       "803  0.697528  0.705500  0.706259  \n",
       "\n",
       "[804 rows x 10 columns]"
      ]
     },
     "execution_count": 254,
     "metadata": {},
     "output_type": "execute_result"
    }
   ],
   "source": [
    "pd.DataFrame(train)"
   ]
  },
  {
   "cell_type": "code",
   "execution_count": 255,
   "id": "4a3ee806-5784-4ca9-8af0-285a37f4a980",
   "metadata": {},
   "outputs": [
    {
     "data": {
      "text/html": [
       "<div>\n",
       "<style scoped>\n",
       "    .dataframe tbody tr th:only-of-type {\n",
       "        vertical-align: middle;\n",
       "    }\n",
       "\n",
       "    .dataframe tbody tr th {\n",
       "        vertical-align: top;\n",
       "    }\n",
       "\n",
       "    .dataframe thead th {\n",
       "        text-align: right;\n",
       "    }\n",
       "</style>\n",
       "<table border=\"1\" class=\"dataframe\">\n",
       "  <thead>\n",
       "    <tr style=\"text-align: right;\">\n",
       "      <th></th>\n",
       "      <th>0</th>\n",
       "    </tr>\n",
       "  </thead>\n",
       "  <tbody>\n",
       "    <tr>\n",
       "      <th>0</th>\n",
       "      <td>0.000554</td>\n",
       "    </tr>\n",
       "    <tr>\n",
       "      <th>1</th>\n",
       "      <td>0.003739</td>\n",
       "    </tr>\n",
       "    <tr>\n",
       "      <th>2</th>\n",
       "      <td>0.001985</td>\n",
       "    </tr>\n",
       "    <tr>\n",
       "      <th>3</th>\n",
       "      <td>0.000000</td>\n",
       "    </tr>\n",
       "    <tr>\n",
       "      <th>4</th>\n",
       "      <td>0.002308</td>\n",
       "    </tr>\n",
       "    <tr>\n",
       "      <th>5</th>\n",
       "      <td>0.004293</td>\n",
       "    </tr>\n",
       "    <tr>\n",
       "      <th>6</th>\n",
       "      <td>0.001846</td>\n",
       "    </tr>\n",
       "    <tr>\n",
       "      <th>7</th>\n",
       "      <td>0.004200</td>\n",
       "    </tr>\n",
       "    <tr>\n",
       "      <th>8</th>\n",
       "      <td>0.001062</td>\n",
       "    </tr>\n",
       "    <tr>\n",
       "      <th>9</th>\n",
       "      <td>0.003970</td>\n",
       "    </tr>\n",
       "    <tr>\n",
       "      <th>10</th>\n",
       "      <td>0.007847</td>\n",
       "    </tr>\n",
       "    <tr>\n",
       "      <th>11</th>\n",
       "      <td>0.011216</td>\n",
       "    </tr>\n",
       "    <tr>\n",
       "      <th>12</th>\n",
       "      <td>0.010524</td>\n",
       "    </tr>\n",
       "  </tbody>\n",
       "</table>\n",
       "</div>"
      ],
      "text/plain": [
       "           0\n",
       "0   0.000554\n",
       "1   0.003739\n",
       "2   0.001985\n",
       "3   0.000000\n",
       "4   0.002308\n",
       "5   0.004293\n",
       "6   0.001846\n",
       "7   0.004200\n",
       "8   0.001062\n",
       "9   0.003970\n",
       "10  0.007847\n",
       "11  0.011216\n",
       "12  0.010524"
      ]
     },
     "execution_count": 255,
     "metadata": {},
     "output_type": "execute_result"
    }
   ],
   "source": [
    "# original time-series\n",
    "orig = get_orig(train)\n",
    "\n",
    "pd.DataFrame(orig[0:13])"
   ]
  },
  {
   "cell_type": "code",
   "execution_count": 256,
   "id": "160216cf-4437-4075-987f-75359495af16",
   "metadata": {},
   "outputs": [
    {
     "data": {
      "image/png": "[encoded data removed]",
      "text/plain": [
       "<Figure size 432x288 with 1 Axes>"
      ]
     },
     "metadata": {
      "needs_background": "light"
     },
     "output_type": "display_data"
    }
   ],
   "source": [
    "plt.plot(orig)\n",
    "plt.title(\"Original Stock Signal\");"
   ]
  },
  {
   "cell_type": "code",
   "execution_count": 195,
   "id": "d6283325-7032-49fa-b23d-c05e27ed1d35",
   "metadata": {},
   "outputs": [
    {
     "data": {
      "text/plain": [
       "(804, 10)"
      ]
     },
     "execution_count": 195,
     "metadata": {},
     "output_type": "execute_result"
    }
   ],
   "source": [
    "train.shape"
   ]
  },
  {
   "cell_type": "code",
   "execution_count": 217,
   "id": "d4b8af29-eb8d-445d-96fd-51637914aef3",
   "metadata": {},
   "outputs": [],
   "source": [
    "x_train = train[:, :timesteps]\n",
    "y_train = train[:, timesteps: timesteps + steps_ahead]\n",
    "xy_train = (x_train, y_train)"
   ]
  },
  {
   "cell_type": "code",
   "execution_count": 218,
   "id": "8abc0da0-0ae3-414e-aa84-795ad45f1a49",
   "metadata": {},
   "outputs": [
    {
     "data": {
      "text/html": [
       "<div>\n",
       "<style scoped>\n",
       "    .dataframe tbody tr th:only-of-type {\n",
       "        vertical-align: middle;\n",
       "    }\n",
       "\n",
       "    .dataframe tbody tr th {\n",
       "        vertical-align: top;\n",
       "    }\n",
       "\n",
       "    .dataframe thead th {\n",
       "        text-align: right;\n",
       "    }\n",
       "</style>\n",
       "<table border=\"1\" class=\"dataframe\">\n",
       "  <thead>\n",
       "    <tr style=\"text-align: right;\">\n",
       "      <th></th>\n",
       "      <th>0</th>\n",
       "      <th>1</th>\n",
       "      <th>2</th>\n",
       "      <th>3</th>\n",
       "      <th>4</th>\n",
       "    </tr>\n",
       "  </thead>\n",
       "  <tbody>\n",
       "    <tr>\n",
       "      <th>0</th>\n",
       "      <td>0.000554</td>\n",
       "      <td>0.003739</td>\n",
       "      <td>0.001985</td>\n",
       "      <td>0.000000</td>\n",
       "      <td>0.002308</td>\n",
       "    </tr>\n",
       "    <tr>\n",
       "      <th>1</th>\n",
       "      <td>0.001985</td>\n",
       "      <td>0.000000</td>\n",
       "      <td>0.002308</td>\n",
       "      <td>0.004293</td>\n",
       "      <td>0.001846</td>\n",
       "    </tr>\n",
       "    <tr>\n",
       "      <th>2</th>\n",
       "      <td>0.002308</td>\n",
       "      <td>0.004293</td>\n",
       "      <td>0.001846</td>\n",
       "      <td>0.004200</td>\n",
       "      <td>0.001062</td>\n",
       "    </tr>\n",
       "    <tr>\n",
       "      <th>3</th>\n",
       "      <td>0.001846</td>\n",
       "      <td>0.004200</td>\n",
       "      <td>0.001062</td>\n",
       "      <td>0.003970</td>\n",
       "      <td>0.007847</td>\n",
       "    </tr>\n",
       "    <tr>\n",
       "      <th>4</th>\n",
       "      <td>0.001062</td>\n",
       "      <td>0.003970</td>\n",
       "      <td>0.007847</td>\n",
       "      <td>0.011216</td>\n",
       "      <td>0.010524</td>\n",
       "    </tr>\n",
       "    <tr>\n",
       "      <th>...</th>\n",
       "      <td>...</td>\n",
       "      <td>...</td>\n",
       "      <td>...</td>\n",
       "      <td>...</td>\n",
       "      <td>...</td>\n",
       "    </tr>\n",
       "    <tr>\n",
       "      <th>799</th>\n",
       "      <td>0.719476</td>\n",
       "      <td>0.720176</td>\n",
       "      <td>0.723407</td>\n",
       "      <td>0.705364</td>\n",
       "      <td>0.693515</td>\n",
       "    </tr>\n",
       "    <tr>\n",
       "      <th>800</th>\n",
       "      <td>0.723407</td>\n",
       "      <td>0.705364</td>\n",
       "      <td>0.693515</td>\n",
       "      <td>0.701704</td>\n",
       "      <td>0.694112</td>\n",
       "    </tr>\n",
       "    <tr>\n",
       "      <th>801</th>\n",
       "      <td>0.693515</td>\n",
       "      <td>0.701704</td>\n",
       "      <td>0.694112</td>\n",
       "      <td>0.709296</td>\n",
       "      <td>0.694166</td>\n",
       "    </tr>\n",
       "    <tr>\n",
       "      <th>802</th>\n",
       "      <td>0.694112</td>\n",
       "      <td>0.709296</td>\n",
       "      <td>0.694166</td>\n",
       "      <td>0.692539</td>\n",
       "      <td>0.696552</td>\n",
       "    </tr>\n",
       "    <tr>\n",
       "      <th>803</th>\n",
       "      <td>0.694166</td>\n",
       "      <td>0.692539</td>\n",
       "      <td>0.696552</td>\n",
       "      <td>0.694491</td>\n",
       "      <td>0.676650</td>\n",
       "    </tr>\n",
       "  </tbody>\n",
       "</table>\n",
       "<p>804 rows × 5 columns</p>\n",
       "</div>"
      ],
      "text/plain": [
       "            0         1         2         3         4\n",
       "0    0.000554  0.003739  0.001985  0.000000  0.002308\n",
       "1    0.001985  0.000000  0.002308  0.004293  0.001846\n",
       "2    0.002308  0.004293  0.001846  0.004200  0.001062\n",
       "3    0.001846  0.004200  0.001062  0.003970  0.007847\n",
       "4    0.001062  0.003970  0.007847  0.011216  0.010524\n",
       "..        ...       ...       ...       ...       ...\n",
       "799  0.719476  0.720176  0.723407  0.705364  0.693515\n",
       "800  0.723407  0.705364  0.693515  0.701704  0.694112\n",
       "801  0.693515  0.701704  0.694112  0.709296  0.694166\n",
       "802  0.694112  0.709296  0.694166  0.692539  0.696552\n",
       "803  0.694166  0.692539  0.696552  0.694491  0.676650\n",
       "\n",
       "[804 rows x 5 columns]"
      ]
     },
     "execution_count": 218,
     "metadata": {},
     "output_type": "execute_result"
    }
   ],
   "source": [
    "pd.DataFrame(x_train)"
   ]
  },
  {
   "cell_type": "code",
   "execution_count": 219,
   "id": "d7cb993f-2056-415a-a107-3a17014e43e4",
   "metadata": {},
   "outputs": [
    {
     "data": {
      "text/html": [
       "<div>\n",
       "<style scoped>\n",
       "    .dataframe tbody tr th:only-of-type {\n",
       "        vertical-align: middle;\n",
       "    }\n",
       "\n",
       "    .dataframe tbody tr th {\n",
       "        vertical-align: top;\n",
       "    }\n",
       "\n",
       "    .dataframe thead th {\n",
       "        text-align: right;\n",
       "    }\n",
       "</style>\n",
       "<table border=\"1\" class=\"dataframe\">\n",
       "  <thead>\n",
       "    <tr style=\"text-align: right;\">\n",
       "      <th></th>\n",
       "      <th>0</th>\n",
       "      <th>1</th>\n",
       "      <th>2</th>\n",
       "      <th>3</th>\n",
       "      <th>4</th>\n",
       "    </tr>\n",
       "  </thead>\n",
       "  <tbody>\n",
       "    <tr>\n",
       "      <th>0</th>\n",
       "      <td>0.004293</td>\n",
       "      <td>0.001846</td>\n",
       "      <td>0.004200</td>\n",
       "      <td>0.001062</td>\n",
       "      <td>0.003970</td>\n",
       "    </tr>\n",
       "    <tr>\n",
       "      <th>1</th>\n",
       "      <td>0.004200</td>\n",
       "      <td>0.001062</td>\n",
       "      <td>0.003970</td>\n",
       "      <td>0.007847</td>\n",
       "      <td>0.011216</td>\n",
       "    </tr>\n",
       "    <tr>\n",
       "      <th>2</th>\n",
       "      <td>0.003970</td>\n",
       "      <td>0.007847</td>\n",
       "      <td>0.011216</td>\n",
       "      <td>0.010524</td>\n",
       "      <td>0.010339</td>\n",
       "    </tr>\n",
       "    <tr>\n",
       "      <th>3</th>\n",
       "      <td>0.011216</td>\n",
       "      <td>0.010524</td>\n",
       "      <td>0.010339</td>\n",
       "      <td>0.011816</td>\n",
       "      <td>0.014355</td>\n",
       "    </tr>\n",
       "    <tr>\n",
       "      <th>4</th>\n",
       "      <td>0.010339</td>\n",
       "      <td>0.011816</td>\n",
       "      <td>0.014355</td>\n",
       "      <td>0.019432</td>\n",
       "      <td>0.018879</td>\n",
       "    </tr>\n",
       "    <tr>\n",
       "      <th>...</th>\n",
       "      <td>...</td>\n",
       "      <td>...</td>\n",
       "      <td>...</td>\n",
       "      <td>...</td>\n",
       "      <td>...</td>\n",
       "    </tr>\n",
       "    <tr>\n",
       "      <th>799</th>\n",
       "      <td>0.701704</td>\n",
       "      <td>0.694112</td>\n",
       "      <td>0.709296</td>\n",
       "      <td>0.694166</td>\n",
       "      <td>0.692539</td>\n",
       "    </tr>\n",
       "    <tr>\n",
       "      <th>800</th>\n",
       "      <td>0.709296</td>\n",
       "      <td>0.694166</td>\n",
       "      <td>0.692539</td>\n",
       "      <td>0.696552</td>\n",
       "      <td>0.694491</td>\n",
       "    </tr>\n",
       "    <tr>\n",
       "      <th>801</th>\n",
       "      <td>0.692539</td>\n",
       "      <td>0.696552</td>\n",
       "      <td>0.694491</td>\n",
       "      <td>0.676650</td>\n",
       "      <td>0.692593</td>\n",
       "    </tr>\n",
       "    <tr>\n",
       "      <th>802</th>\n",
       "      <td>0.694491</td>\n",
       "      <td>0.676650</td>\n",
       "      <td>0.692593</td>\n",
       "      <td>0.684730</td>\n",
       "      <td>0.697528</td>\n",
       "    </tr>\n",
       "    <tr>\n",
       "      <th>803</th>\n",
       "      <td>0.692593</td>\n",
       "      <td>0.684730</td>\n",
       "      <td>0.697528</td>\n",
       "      <td>0.705500</td>\n",
       "      <td>0.706259</td>\n",
       "    </tr>\n",
       "  </tbody>\n",
       "</table>\n",
       "<p>804 rows × 5 columns</p>\n",
       "</div>"
      ],
      "text/plain": [
       "            0         1         2         3         4\n",
       "0    0.004293  0.001846  0.004200  0.001062  0.003970\n",
       "1    0.004200  0.001062  0.003970  0.007847  0.011216\n",
       "2    0.003970  0.007847  0.011216  0.010524  0.010339\n",
       "3    0.011216  0.010524  0.010339  0.011816  0.014355\n",
       "4    0.010339  0.011816  0.014355  0.019432  0.018879\n",
       "..        ...       ...       ...       ...       ...\n",
       "799  0.701704  0.694112  0.709296  0.694166  0.692539\n",
       "800  0.709296  0.694166  0.692539  0.696552  0.694491\n",
       "801  0.692539  0.696552  0.694491  0.676650  0.692593\n",
       "802  0.694491  0.676650  0.692593  0.684730  0.697528\n",
       "803  0.692593  0.684730  0.697528  0.705500  0.706259\n",
       "\n",
       "[804 rows x 5 columns]"
      ]
     },
     "execution_count": 219,
     "metadata": {},
     "output_type": "execute_result"
    }
   ],
   "source": [
    "pd.DataFrame(y_train)"
   ]
  },
  {
   "cell_type": "code",
   "execution_count": 220,
   "id": "25d84c94-d09a-4fb6-8176-9acbbb067748",
   "metadata": {},
   "outputs": [
    {
     "data": {
      "text/plain": [
       "[<matplotlib.lines.Line2D at 0x14e4f0cd0>]"
      ]
     },
     "execution_count": 220,
     "metadata": {},
     "output_type": "execute_result"
    },
    {
     "data": {
      "image/png": "[encoded data removed]",
      "text/plain": [
       "<Figure size 432x288 with 1 Axes>"
      ]
     },
     "metadata": {
      "needs_background": "light"
     },
     "output_type": "display_data"
    }
   ],
   "source": [
    "plt.plot(get_orig(y_train))"
   ]
  },
  {
   "cell_type": "code",
   "execution_count": 222,
   "id": "7b744caa-7eee-4d0b-9fd0-5487ae8e6c5c",
   "metadata": {},
   "outputs": [
    {
     "data": {
      "text/plain": [
       "(804, 5)"
      ]
     },
     "execution_count": 222,
     "metadata": {},
     "output_type": "execute_result"
    }
   ],
   "source": [
    "x_train.shape"
   ]
  },
  {
   "cell_type": "code",
   "execution_count": 223,
   "id": "bdc8eda2-4b20-4c7f-9a31-c553e5c0dcbb",
   "metadata": {},
   "outputs": [
    {
     "data": {
      "text/plain": [
       "(804, 5)"
      ]
     },
     "execution_count": 223,
     "metadata": {},
     "output_type": "execute_result"
    }
   ],
   "source": [
    "y_train.shape"
   ]
  },
  {
   "cell_type": "code",
   "execution_count": 231,
   "id": "feb1e4af-7146-4f72-8158-b3c862f0a07a",
   "metadata": {},
   "outputs": [],
   "source": [
    "## BNN training\n",
    "\n",
    "#could use any of the samplers modulo hyperparameters\n",
    "# sampler_fns = hmc_fns\n",
    "# sampler_fns = langevin_fns\n",
    "sampler_fns = mala_fns\n",
    "\n",
    "\n",
    "\n",
    "def net_fn(x):\n",
    "\n",
    "\tmlp = hk.Sequential([\n",
    "\t\thk.Linear(128, w_init=hk.initializers.Constant(0), \n",
    "\t\t\t\t\t   b_init=hk.initializers.Constant(0)), \n",
    "\t\tjnp.tanh, \n",
    "\t\thk.Linear(5,   w_init=hk.initializers.Constant(0), \n",
    "\t\t\t\t\t   b_init=hk.initializers.Constant(0))\n",
    "\t\t])\n",
    "\n",
    "\treturn mlp(x)"
   ]
  },
  {
   "cell_type": "code",
   "execution_count": 232,
   "id": "4084ea96-e52e-4761-8bd8-8a48d828246b",
   "metadata": {},
   "outputs": [],
   "source": [
    "lr = 1e-4\n",
    "reg = 0.1\n",
    "lik_var = 0.5\n",
    "\n",
    "net = hk.transform(net_fn)\n",
    "key = jax.random.PRNGKey(0)\n",
    "\n",
    "sampler_init, sampler_propose, sampler_accept, sampler_update, sampler_get_params = \\\n",
    "    sampler_fns(key, num_samples=10, step_size=lr, init_stddev=5.0)"
   ]
  },
  {
   "cell_type": "code",
   "execution_count": 233,
   "id": "77ee855e-215d-4e9c-9ecd-273090e06e86",
   "metadata": {},
   "outputs": [],
   "source": [
    "def logprob(params, xy):\n",
    "    \"\"\" log posterior, assuming \n",
    "    P(params) ~ N(0,eta)\n",
    "    P(y|x, params) ~ N(f(x;params), lik_var)\n",
    "    \"\"\"\n",
    "    x, y = xy\n",
    "\n",
    "    preds = net.apply(params, None, x)\n",
    "    log_prior = - reg * sum(jnp.sum(jnp.square(p)) \n",
    "                        for p in jax.tree_leaves(params))\n",
    "    log_lik = - jnp.mean(jnp.square(preds - y)) / lik_var\n",
    "    return log_lik + log_prior\n",
    "\n",
    "@jax.jit\n",
    "def sampler_step(i, state, keys, batch):\n",
    "    # print(state)\n",
    "    # input()\n",
    "    params = sampler_get_params(state)\n",
    "    logp = lambda params:logprob(params, batch)\n",
    "    fx, dx = jax.vmap(jax.value_and_grad(logp))(params)\n",
    "\n",
    "    fx_prop, dx_prop = fx, dx\n",
    "    # fx_prop, prop_state, dx_prop, new_keys = fx, state, dx, keys\n",
    "    prop_state, keys = sampler_propose(i, dx, state, keys)\n",
    "\n",
    "    # for RK-langevin and MALA --- recompute gradients\n",
    "    prop_params = sampler_get_params(prop_state)\n",
    "    fx_prop, dx_prop = jax.vmap(jax.value_and_grad(logp))(prop_params)\n",
    "\n",
    "    # for HMC\n",
    "    # prop_state, dx_prop, keys = state, dx, keys\n",
    "    # for j in range(5): #5 iterations of the leapfrog integrator\n",
    "    # \tprop_state, keys = \\\n",
    "    # \t\tsampler_propose(i, dx_prop, prop_state, keys)\n",
    "\n",
    "    # \tprop_params = sampler_get_params(prop_state)\n",
    "    # \tfx_prop, dx_prop = jax.vmap(jax.value_and_grad(logp))(prop_params)\n",
    "\n",
    "    accept_idxs, keys = sampler_accept(\n",
    "        i, fx, fx_prop, dx, state, dx_prop, prop_state, keys\n",
    "    )\n",
    "    state, keys = sampler_update(\n",
    "        i, accept_idxs, dx, state, dx_prop, prop_state, keys\n",
    "    )\n",
    "\n",
    "\n",
    "    return state, keys"
   ]
  },
  {
   "cell_type": "code",
   "execution_count": 234,
   "id": "1b4682da-807e-4bbf-a7f3-0efe5157fed6",
   "metadata": {},
   "outputs": [],
   "source": [
    "# initialization\n",
    "params = net.init(jax.random.PRNGKey(42), x_train)\n",
    "sampler_state, sampler_keys = sampler_init(params)"
   ]
  },
  {
   "cell_type": "code",
   "execution_count": 235,
   "id": "f7c4d84e-9414-4f34-893f-f80dc645e692",
   "metadata": {},
   "outputs": [
    {
     "data": {
      "text/plain": [
       "(5, 128)"
      ]
     },
     "execution_count": 235,
     "metadata": {},
     "output_type": "execute_result"
    }
   ],
   "source": [
    "params['linear']['w'].shape"
   ]
  },
  {
   "cell_type": "code",
   "execution_count": 243,
   "id": "caa9ed00-e7ca-4145-97bd-a050e4fdc8e8",
   "metadata": {},
   "outputs": [
    {
     "name": "stderr",
     "output_type": "stream",
     "text": [
      "100%|██████████| 10000/10000 [01:36<00:00, 103.49it/s]\n"
     ]
    }
   ],
   "source": [
    "#do the sampling\n",
    "for step in trange(10000):\n",
    "    sampler_state, sampler_keys = \\\n",
    "        sampler_step(step, sampler_state, sampler_keys, xy_train)\n",
    "\n",
    "\n",
    "sampler_params = sampler_get_params(sampler_state)"
   ]
  },
  {
   "cell_type": "code",
   "execution_count": 244,
   "id": "7d8498cb-d609-488f-8120-235c2603871a",
   "metadata": {},
   "outputs": [
    {
     "data": {
      "text/plain": [
       "(10, 804, 5)"
      ]
     },
     "execution_count": 244,
     "metadata": {},
     "output_type": "execute_result"
    }
   ],
   "source": [
    "outputs = jax.vmap(net.apply, in_axes=(0, None, None))(sampler_params, None, x_train)\n",
    "outputs.shape"
   ]
  },
  {
   "cell_type": "code",
   "execution_count": 245,
   "id": "1792bde1-5c37-4d34-bb82-275fb3e1aa94",
   "metadata": {},
   "outputs": [
    {
     "data": {
      "text/plain": [
       "(10, 1611)"
      ]
     },
     "execution_count": 245,
     "metadata": {},
     "output_type": "execute_result"
    }
   ],
   "source": [
    "pred_lines = np.array([ get_orig(outputs[i,:,:]) for i in range(0, outputs.shape[0])])\n",
    "pred_lines.shape"
   ]
  },
  {
   "cell_type": "code",
   "execution_count": 246,
   "id": "8bd4cbbc-96ca-4d66-97ac-9caecb65514f",
   "metadata": {},
   "outputs": [],
   "source": [
    "ms = jnp.mean(pred_lines, axis=0)\n",
    "ss = jnp.std(pred_lines, axis=0)\n",
    "\n",
    "lower, uper = ms-ss, ms+ss"
   ]
  },
  {
   "cell_type": "code",
   "execution_count": 247,
   "id": "9da63484-3690-4725-a09b-5c9be362b04b",
   "metadata": {},
   "outputs": [],
   "source": [
    "x = jax.device_put(outputs)"
   ]
  },
  {
   "cell_type": "code",
   "execution_count": 248,
   "id": "20ec8ca4-f39c-4fef-b661-885ff83f25c8",
   "metadata": {},
   "outputs": [
    {
     "data": {
      "text/plain": [
       "[<matplotlib.lines.Line2D at 0x14e5a9580>]"
      ]
     },
     "execution_count": 248,
     "metadata": {},
     "output_type": "execute_result"
    },
    {
     "data": {
      "image/png": "[encoded data removed]",
      "text/plain": [
       "<Figure size 432x288 with 1 Axes>"
      ]
     },
     "metadata": {
      "needs_background": "light"
     },
     "output_type": "display_data"
    }
   ],
   "source": [
    "plt.plot(ms)\n",
    "plt.plot(orig)"
   ]
  },
  {
   "cell_type": "code",
   "execution_count": 257,
   "id": "f03e1115-302a-4f65-b8e3-6c896016483b",
   "metadata": {},
   "outputs": [
    {
     "data": {
      "text/plain": [
       "[<matplotlib.lines.Line2D at 0x14a8a11c0>,\n",
       " <matplotlib.lines.Line2D at 0x14a8a10d0>,\n",
       " <matplotlib.lines.Line2D at 0x14a8a14f0>,\n",
       " <matplotlib.lines.Line2D at 0x14a8a15e0>,\n",
       " <matplotlib.lines.Line2D at 0x14a8a16d0>]"
      ]
     },
     "execution_count": 257,
     "metadata": {},
     "output_type": "execute_result"
    },
    {
     "data": {
      "image/png": "[encoded data removed]",
      "text/plain": [
       "<Figure size 432x288 with 1 Axes>"
      ]
     },
     "metadata": {
      "needs_background": "light"
     },
     "output_type": "display_data"
    }
   ],
   "source": [
    "f, ax = plt.subplots(1)\n",
    "for i in range(outputs.shape[0]):\n",
    "\t\tax.plot(outputs[i,:,0], alpha=0.25)\n",
    "ax.plot(ms, label=\"Mean\")\n",
    "ax.plot(y_train)"
   ]
  },
  {
   "cell_type": "code",
   "execution_count": 151,
   "id": "06f36f3f-e7e7-4a6b-a7f3-49619d5777f8",
   "metadata": {},
   "outputs": [
    {
     "data": {
      "text/plain": [
       "[<matplotlib.lines.Line2D at 0x13e6002b0>]"
      ]
     },
     "execution_count": 151,
     "metadata": {},
     "output_type": "execute_result"
    },
    {
     "data": {
      "image/png": "[encoded data removed]",
      "text/plain": [
       "<Figure size 432x288 with 1 Axes>"
      ]
     },
     "metadata": {
      "needs_background": "light"
     },
     "output_type": "display_data"
    }
   ],
   "source": [
    "plt.plot(y_train[:,0])"
   ]
  },
  {
   "cell_type": "code",
   "execution_count": null,
   "id": "af027718-7d61-4c3a-804b-6cc288c60926",
   "metadata": {},
   "outputs": [],
   "source": []
  }
 ],
 "metadata": {
  "kernelspec": {
   "display_name": "Python 3",
   "language": "python",
   "name": "python3"
  },
  "language_info": {
   "codemirror_mode": {
    "name": "ipython",
    "version": 3
   },
   "file_extension": ".py",
   "mimetype": "text/x-python",
   "name": "python",
   "nbconvert_exporter": "python",
   "pygments_lexer": "ipython3",
   "version": "3.9.12"
  }
 },
 "nbformat": 4,
 "nbformat_minor": 5
}
