{
  "cells": [
    {
      "cell_type": "markdown",
      "metadata": {
        "id": "39b2c109-c4ac-4e47-a22f-cb2c7aede2ec"
      },
      "source": [
        "# Fit sliding window of stock markets"
      ],
      "id": "39b2c109-c4ac-4e47-a22f-cb2c7aede2ec"
    },
    {
      "cell_type": "markdown",
      "metadata": {
        "id": "cexNwN1sfgT1"
      },
      "source": [
        "## Installing packages"
      ],
      "id": "cexNwN1sfgT1"
    },
    {
      "cell_type": "code",
      "execution_count": null,
      "metadata": {
        "colab": {
          "base_uri": "https://localhost:8080/"
        },
        "id": "DV9DN1bqfdHK",
        "outputId": "61b5dc20-8708-4281-e096-a007a5c79c39"
      },
      "outputs": [
        {
          "output_type": "stream",
          "name": "stdout",
          "text": [
            "Looking in indexes: https://pypi.org/simple, https://us-python.pkg.dev/colab-wheels/public/simple/\n",
            "Collecting git+https://github.com/deepmind/dm-haiku\n",
            "  Cloning https://github.com/deepmind/dm-haiku to /tmp/pip-req-build-roptddu5\n",
            "  Running command git clone -q https://github.com/deepmind/dm-haiku /tmp/pip-req-build-roptddu5\n",
            "Requirement already satisfied: absl-py>=0.7.1 in /usr/local/lib/python3.8/dist-packages (from dm-haiku==0.0.10.dev0) (1.3.0)\n",
            "Collecting jmp>=0.0.2\n",
            "  Downloading jmp-0.0.2-py3-none-any.whl (16 kB)\n",
            "Requirement already satisfied: numpy>=1.18.0 in /usr/local/lib/python3.8/dist-packages (from dm-haiku==0.0.10.dev0) (1.21.6)\n",
            "Requirement already satisfied: tabulate>=0.8.9 in /usr/local/lib/python3.8/dist-packages (from dm-haiku==0.0.10.dev0) (0.8.10)\n",
            "Building wheels for collected packages: dm-haiku\n",
            "  Building wheel for dm-haiku (setup.py) ... \u001b[?25l\u001b[?25hdone\n",
            "  Created wheel for dm-haiku: filename=dm_haiku-0.0.10.dev0-py3-none-any.whl size=614395 sha256=25abd727928e5aaeeeafa7caad835333acf006ea394957d67ececb647c2b4ee0\n",
            "  Stored in directory: /tmp/pip-ephem-wheel-cache-idhjkii0/wheels/c7/4d/89/b159f184ad7c9e95672c342eafcc176ad92ee0c77f27f3bd23\n",
            "Successfully built dm-haiku\n",
            "Installing collected packages: jmp, dm-haiku\n",
            "Successfully installed dm-haiku-0.0.10.dev0 jmp-0.0.2\n",
            "Looking in indexes: https://pypi.org/simple, https://us-python.pkg.dev/colab-wheels/public/simple/\n",
            "Collecting git+https://github.com/jamesvuc/jax-bayes\n",
            "  Cloning https://github.com/jamesvuc/jax-bayes to /tmp/pip-req-build-n2yx3bkn\n",
            "  Running command git clone -q https://github.com/jamesvuc/jax-bayes /tmp/pip-req-build-n2yx3bkn\n",
            "Requirement already satisfied: absl-py>=0.9.0 in /usr/local/lib/python3.8/dist-packages (from jax-bayes==0.1.1) (1.3.0)\n",
            "Requirement already satisfied: numpy>=1.18.0 in /usr/local/lib/python3.8/dist-packages (from jax-bayes==0.1.1) (1.21.6)\n",
            "Requirement already satisfied: opt-einsum>=3.3.0 in /usr/local/lib/python3.8/dist-packages (from jax-bayes==0.1.1) (3.3.0)\n",
            "Requirement already satisfied: protobuf>=3.12.4 in /usr/local/lib/python3.8/dist-packages (from jax-bayes==0.1.1) (3.19.6)\n",
            "Requirement already satisfied: scipy>=1.5.2 in /usr/local/lib/python3.8/dist-packages (from jax-bayes==0.1.1) (1.7.3)\n",
            "Requirement already satisfied: six>=1.15.0 in /usr/local/lib/python3.8/dist-packages (from jax-bayes==0.1.1) (1.15.0)\n",
            "Requirement already satisfied: tqdm>=4.48.2 in /usr/local/lib/python3.8/dist-packages (from jax-bayes==0.1.1) (4.64.1)\n",
            "Building wheels for collected packages: jax-bayes\n",
            "  Building wheel for jax-bayes (setup.py) ... \u001b[?25l\u001b[?25hdone\n",
            "  Created wheel for jax-bayes: filename=jax_bayes-0.1.1-py3-none-any.whl size=1031680 sha256=9b907924ffc39bb28cbc9fc15f6fa0ae4fe85463be7b70cd798b52802fc3c4d7\n",
            "  Stored in directory: /tmp/pip-ephem-wheel-cache-xyinnglr/wheels/3f/7b/9c/326882f09afedfadf20a391de383da7aaea36b633d5e17555f\n",
            "Successfully built jax-bayes\n",
            "Installing collected packages: jax-bayes\n",
            "Successfully installed jax-bayes-0.1.1\n"
          ]
        }
      ],
      "source": [
        "!pip install git+https://github.com/deepmind/dm-haiku\n",
        "!pip install git+https://github.com/jamesvuc/jax-bayes"
      ],
      "id": "DV9DN1bqfdHK"
    },
    {
      "cell_type": "markdown",
      "metadata": {
        "id": "H09on66dhQoT"
      },
      "source": [
        "## Downloading data"
      ],
      "id": "H09on66dhQoT"
    },
    {
      "cell_type": "code",
      "execution_count": null,
      "metadata": {
        "colab": {
          "base_uri": "https://localhost:8080/"
        },
        "id": "umaMva2agD6h",
        "outputId": "e7efb5b6-79f6-4b26-cdb3-3cab4dc413ce"
      },
      "outputs": [
        {
          "output_type": "stream",
          "name": "stdout",
          "text": [
            "Cloning into 'Bayesianneuralnet_stockmarket'...\n",
            "remote: Enumerating objects: 960, done.\u001b[K\n",
            "remote: Counting objects: 100% (10/10), done.\u001b[K\n",
            "remote: Compressing objects: 100% (8/8), done.\u001b[K\n",
            "remote: Total 960 (delta 3), reused 8 (delta 2), pack-reused 950\u001b[K\n",
            "Receiving objects: 100% (960/960), 217.92 MiB | 15.57 MiB/s, done.\n",
            "Resolving deltas: 100% (167/167), done.\n"
          ]
        }
      ],
      "source": [
        "!git clone https://github.com/stevengogogo/Bayesianneuralnet_stockmarket"
      ],
      "id": "umaMva2agD6h"
    },
    {
      "cell_type": "markdown",
      "metadata": {
        "id": "aJMAr3ORhUJ0"
      },
      "source": [
        "## Training Experiment"
      ],
      "id": "aJMAr3ORhUJ0"
    },
    {
      "cell_type": "code",
      "execution_count": null,
      "metadata": {
        "id": "de12a53a-a647-4a5a-a11c-a20bb4199a25"
      },
      "outputs": [],
      "source": [
        "import os\n",
        "import os.path as osp\n",
        "import numpy as np\n",
        "# %%\n",
        "import numpy as np\n",
        "np.random.seed(0)\n",
        "\n",
        "import haiku as hk\n",
        "import pandas as pd\n",
        "import jax.numpy as jnp\n",
        "import jax\n",
        "\n",
        "from tqdm import tqdm, trange\n",
        "from matplotlib import pyplot as plt\n",
        "\n",
        "from jax_bayes.utils import confidence_bands\n",
        "from jax_bayes.mcmc import (\n",
        "\t langevin_fns,\n",
        "\tmala_fns,\n",
        "\t hmc_fns,\n",
        ")\n"
      ],
      "id": "de12a53a-a647-4a5a-a11c-a20bb4199a25"
    },
    {
      "cell_type": "markdown",
      "metadata": {
        "id": "u9ZxdOhMiJBq"
      },
      "source": [
        "## Computational Devices"
      ],
      "id": "u9ZxdOhMiJBq"
    },
    {
      "cell_type": "code",
      "execution_count": null,
      "metadata": {
        "colab": {
          "base_uri": "https://localhost:8080/"
        },
        "id": "3A56DdYMiLc6",
        "outputId": "b9ba7e91-d84d-448b-e70e-d4ce3e152f8c"
      },
      "outputs": [
        {
          "output_type": "execute_result",
          "data": {
            "text/plain": [
              "[StreamExecutorGpuDevice(id=0, process_index=0, slice_index=0)]"
            ]
          },
          "metadata": {},
          "execution_count": 4
        }
      ],
      "source": [
        "jax.devices()"
      ],
      "id": "3A56DdYMiLc6"
    },
    {
      "cell_type": "markdown",
      "metadata": {
        "id": "59b42026-b9bc-4535-82b8-138d17357108"
      },
      "source": [
        "## Data processing\n",
        "\n",
        "The original data set is $x_t = \\{x_{1}, ..., x_{Total}\\}$, the training input is a matrix with dimension $m \\times s$ (where m is the capture window, and $s$ is the number of samples). The sample is produced by shifting the original time series with lag of $2$.\n",
        "\n",
        "\n",
        "- Training set\n",
        "\n",
        "$$\\bar{x}_t = \n",
        "\\underbrace{\\begin{bmatrix}\n",
        "    x_{1+(t-1)T} & \\cdots & x_{m+(t-1)T}\\\\\n",
        "    x_{3+(t-1)T} & \\cdots & x_{2m+3+(t-1)T}\\\\\n",
        "    \\vdots & \\vdots & \\vdots \n",
        "\\end{bmatrix}}_{\\text{m(Capture windows)}}\n",
        "$$\n",
        "\n",
        "\n",
        "$$y_t = \n",
        "\\underbrace{\\begin{bmatrix}\n",
        "    x_{m+(t-1)T + 1} & \\cdots & x_{m+(t-1)T+ n}\\\\\n",
        "    x_{2m+3+(t-1)T + 1} & \\cdots & x_{2m+3+(t-1)T+ n}\\\\\n",
        "    \\vdots & \\vdots & \\vdots\n",
        "\\end{bmatrix}}_{\\text{n (Prediction Horizons)}}\n",
        "$$\n",
        "\n",
        "\n",
        "- $m$: embedding dimension (predicting horizon)\n",
        "- $T$: time lag\n",
        "\n"
      ],
      "id": "59b42026-b9bc-4535-82b8-138d17357108"
    },
    {
      "cell_type": "code",
      "execution_count": null,
      "metadata": {
        "colab": {
          "base_uri": "https://localhost:8080/"
        },
        "id": "9dffe033-bbb6-418f-8073-868ade5fc193",
        "outputId": "59ce24b7-488e-4e22-909d-073254b20ec9"
      },
      "outputs": [
        {
          "output_type": "execute_result",
          "data": {
            "text/plain": [
              "(804, 10)"
            ]
          },
          "metadata": {},
          "execution_count": 5
        }
      ],
      "source": [
        "data_path_base = 'Bayesianneuralnet_stockmarket/code/datasets'\n",
        "\n",
        "def get_orig(sig, shift=2):\n",
        "    return np.concatenate((sig[0,:].ravel(), sig[1:,-shift:].ravel()))\n",
        "    \n",
        "\n",
        "# horizon\n",
        "timesteps = 5\n",
        "steps_ahead = 5\n",
        "\n",
        "# load\n",
        "train = np.loadtxt(open(os.path.join(data_path_base, \"MMM8_train.txt\")))\n",
        "train.shape"
      ],
      "id": "9dffe033-bbb6-418f-8073-868ade5fc193"
    },
    {
      "cell_type": "code",
      "execution_count": null,
      "metadata": {
        "colab": {
          "base_uri": "https://localhost:8080/",
          "height": 424
        },
        "id": "d4f6aa51-d384-47cb-b34d-d012f6fad5da",
        "outputId": "4aa0ff51-ff3e-4bfc-c6d2-ad2e9db07aa7"
      },
      "outputs": [
        {
          "output_type": "execute_result",
          "data": {
            "text/plain": [
              "            0         1         2         3         4         5         6  \\\n",
              "0    0.000554  0.003739  0.001985  0.000000  0.002308  0.004293  0.001846   \n",
              "1    0.001985  0.000000  0.002308  0.004293  0.001846  0.004200  0.001062   \n",
              "2    0.002308  0.004293  0.001846  0.004200  0.001062  0.003970  0.007847   \n",
              "3    0.001846  0.004200  0.001062  0.003970  0.007847  0.011216  0.010524   \n",
              "4    0.001062  0.003970  0.007847  0.011216  0.010524  0.010339  0.011816   \n",
              "..        ...       ...       ...       ...       ...       ...       ...   \n",
              "799  0.719476  0.720176  0.723407  0.705364  0.693515  0.701704  0.694112   \n",
              "800  0.723407  0.705364  0.693515  0.701704  0.694112  0.709296  0.694166   \n",
              "801  0.693515  0.701704  0.694112  0.709296  0.694166  0.692539  0.696552   \n",
              "802  0.694112  0.709296  0.694166  0.692539  0.696552  0.694491  0.676650   \n",
              "803  0.694166  0.692539  0.696552  0.694491  0.676650  0.692593  0.684730   \n",
              "\n",
              "            7         8         9  \n",
              "0    0.004200  0.001062  0.003970  \n",
              "1    0.003970  0.007847  0.011216  \n",
              "2    0.011216  0.010524  0.010339  \n",
              "3    0.010339  0.011816  0.014355  \n",
              "4    0.014355  0.019432  0.018879  \n",
              "..        ...       ...       ...  \n",
              "799  0.709296  0.694166  0.692539  \n",
              "800  0.692539  0.696552  0.694491  \n",
              "801  0.694491  0.676650  0.692593  \n",
              "802  0.692593  0.684730  0.697528  \n",
              "803  0.697528  0.705500  0.706259  \n",
              "\n",
              "[804 rows x 10 columns]"
            ],
            "text/html": [
              "\n",
              "  <div id=\"df-3754de3d-25c1-4531-9217-7a5d57069ca0\">\n",
              "    <div class=\"colab-df-container\">\n",
              "      <div>\n",
              "<style scoped>\n",
              "    .dataframe tbody tr th:only-of-type {\n",
              "        vertical-align: middle;\n",
              "    }\n",
              "\n",
              "    .dataframe tbody tr th {\n",
              "        vertical-align: top;\n",
              "    }\n",
              "\n",
              "    .dataframe thead th {\n",
              "        text-align: right;\n",
              "    }\n",
              "</style>\n",
              "<table border=\"1\" class=\"dataframe\">\n",
              "  <thead>\n",
              "    <tr style=\"text-align: right;\">\n",
              "      <th></th>\n",
              "      <th>0</th>\n",
              "      <th>1</th>\n",
              "      <th>2</th>\n",
              "      <th>3</th>\n",
              "      <th>4</th>\n",
              "      <th>5</th>\n",
              "      <th>6</th>\n",
              "      <th>7</th>\n",
              "      <th>8</th>\n",
              "      <th>9</th>\n",
              "    </tr>\n",
              "  </thead>\n",
              "  <tbody>\n",
              "    <tr>\n",
              "      <th>0</th>\n",
              "      <td>0.000554</td>\n",
              "      <td>0.003739</td>\n",
              "      <td>0.001985</td>\n",
              "      <td>0.000000</td>\n",
              "      <td>0.002308</td>\n",
              "      <td>0.004293</td>\n",
              "      <td>0.001846</td>\n",
              "      <td>0.004200</td>\n",
              "      <td>0.001062</td>\n",
              "      <td>0.003970</td>\n",
              "    </tr>\n",
              "    <tr>\n",
              "      <th>1</th>\n",
              "      <td>0.001985</td>\n",
              "      <td>0.000000</td>\n",
              "      <td>0.002308</td>\n",
              "      <td>0.004293</td>\n",
              "      <td>0.001846</td>\n",
              "      <td>0.004200</td>\n",
              "      <td>0.001062</td>\n",
              "      <td>0.003970</td>\n",
              "      <td>0.007847</td>\n",
              "      <td>0.011216</td>\n",
              "    </tr>\n",
              "    <tr>\n",
              "      <th>2</th>\n",
              "      <td>0.002308</td>\n",
              "      <td>0.004293</td>\n",
              "      <td>0.001846</td>\n",
              "      <td>0.004200</td>\n",
              "      <td>0.001062</td>\n",
              "      <td>0.003970</td>\n",
              "      <td>0.007847</td>\n",
              "      <td>0.011216</td>\n",
              "      <td>0.010524</td>\n",
              "      <td>0.010339</td>\n",
              "    </tr>\n",
              "    <tr>\n",
              "      <th>3</th>\n",
              "      <td>0.001846</td>\n",
              "      <td>0.004200</td>\n",
              "      <td>0.001062</td>\n",
              "      <td>0.003970</td>\n",
              "      <td>0.007847</td>\n",
              "      <td>0.011216</td>\n",
              "      <td>0.010524</td>\n",
              "      <td>0.010339</td>\n",
              "      <td>0.011816</td>\n",
              "      <td>0.014355</td>\n",
              "    </tr>\n",
              "    <tr>\n",
              "      <th>4</th>\n",
              "      <td>0.001062</td>\n",
              "      <td>0.003970</td>\n",
              "      <td>0.007847</td>\n",
              "      <td>0.011216</td>\n",
              "      <td>0.010524</td>\n",
              "      <td>0.010339</td>\n",
              "      <td>0.011816</td>\n",
              "      <td>0.014355</td>\n",
              "      <td>0.019432</td>\n",
              "      <td>0.018879</td>\n",
              "    </tr>\n",
              "    <tr>\n",
              "      <th>...</th>\n",
              "      <td>...</td>\n",
              "      <td>...</td>\n",
              "      <td>...</td>\n",
              "      <td>...</td>\n",
              "      <td>...</td>\n",
              "      <td>...</td>\n",
              "      <td>...</td>\n",
              "      <td>...</td>\n",
              "      <td>...</td>\n",
              "      <td>...</td>\n",
              "    </tr>\n",
              "    <tr>\n",
              "      <th>799</th>\n",
              "      <td>0.719476</td>\n",
              "      <td>0.720176</td>\n",
              "      <td>0.723407</td>\n",
              "      <td>0.705364</td>\n",
              "      <td>0.693515</td>\n",
              "      <td>0.701704</td>\n",
              "      <td>0.694112</td>\n",
              "      <td>0.709296</td>\n",
              "      <td>0.694166</td>\n",
              "      <td>0.692539</td>\n",
              "    </tr>\n",
              "    <tr>\n",
              "      <th>800</th>\n",
              "      <td>0.723407</td>\n",
              "      <td>0.705364</td>\n",
              "      <td>0.693515</td>\n",
              "      <td>0.701704</td>\n",
              "      <td>0.694112</td>\n",
              "      <td>0.709296</td>\n",
              "      <td>0.694166</td>\n",
              "      <td>0.692539</td>\n",
              "      <td>0.696552</td>\n",
              "      <td>0.694491</td>\n",
              "    </tr>\n",
              "    <tr>\n",
              "      <th>801</th>\n",
              "      <td>0.693515</td>\n",
              "      <td>0.701704</td>\n",
              "      <td>0.694112</td>\n",
              "      <td>0.709296</td>\n",
              "      <td>0.694166</td>\n",
              "      <td>0.692539</td>\n",
              "      <td>0.696552</td>\n",
              "      <td>0.694491</td>\n",
              "      <td>0.676650</td>\n",
              "      <td>0.692593</td>\n",
              "    </tr>\n",
              "    <tr>\n",
              "      <th>802</th>\n",
              "      <td>0.694112</td>\n",
              "      <td>0.709296</td>\n",
              "      <td>0.694166</td>\n",
              "      <td>0.692539</td>\n",
              "      <td>0.696552</td>\n",
              "      <td>0.694491</td>\n",
              "      <td>0.676650</td>\n",
              "      <td>0.692593</td>\n",
              "      <td>0.684730</td>\n",
              "      <td>0.697528</td>\n",
              "    </tr>\n",
              "    <tr>\n",
              "      <th>803</th>\n",
              "      <td>0.694166</td>\n",
              "      <td>0.692539</td>\n",
              "      <td>0.696552</td>\n",
              "      <td>0.694491</td>\n",
              "      <td>0.676650</td>\n",
              "      <td>0.692593</td>\n",
              "      <td>0.684730</td>\n",
              "      <td>0.697528</td>\n",
              "      <td>0.705500</td>\n",
              "      <td>0.706259</td>\n",
              "    </tr>\n",
              "  </tbody>\n",
              "</table>\n",
              "<p>804 rows × 10 columns</p>\n",
              "</div>\n",
              "      <button class=\"colab-df-convert\" onclick=\"convertToInteractive('df-3754de3d-25c1-4531-9217-7a5d57069ca0')\"\n",
              "              title=\"Convert this dataframe to an interactive table.\"\n",
              "              style=\"display:none;\">\n",
              "        \n",
              "  <svg xmlns=\"http://www.w3.org/2000/svg\" height=\"24px\"viewBox=\"0 0 24 24\"\n",
              "       width=\"24px\">\n",
              "    <path d=\"M0 0h24v24H0V0z\" fill=\"none\"/>\n",
              "    <path d=\"M18.56 5.44l.94 2.06.94-2.06 2.06-.94-2.06-.94-.94-2.06-.94 2.06-2.06.94zm-11 1L8.5 8.5l.94-2.06 2.06-.94-2.06-.94L8.5 2.5l-.94 2.06-2.06.94zm10 10l.94 2.06.94-2.06 2.06-.94-2.06-.94-.94-2.06-.94 2.06-2.06.94z\"/><path d=\"M17.41 7.96l-1.37-1.37c-.4-.4-.92-.59-1.43-.59-.52 0-1.04.2-1.43.59L10.3 9.45l-7.72 7.72c-.78.78-.78 2.05 0 2.83L4 21.41c.39.39.9.59 1.41.59.51 0 1.02-.2 1.41-.59l7.78-7.78 2.81-2.81c.8-.78.8-2.07 0-2.86zM5.41 20L4 18.59l7.72-7.72 1.47 1.35L5.41 20z\"/>\n",
              "  </svg>\n",
              "      </button>\n",
              "      \n",
              "  <style>\n",
              "    .colab-df-container {\n",
              "      display:flex;\n",
              "      flex-wrap:wrap;\n",
              "      gap: 12px;\n",
              "    }\n",
              "\n",
              "    .colab-df-convert {\n",
              "      background-color: #E8F0FE;\n",
              "      border: none;\n",
              "      border-radius: 50%;\n",
              "      cursor: pointer;\n",
              "      display: none;\n",
              "      fill: #1967D2;\n",
              "      height: 32px;\n",
              "      padding: 0 0 0 0;\n",
              "      width: 32px;\n",
              "    }\n",
              "\n",
              "    .colab-df-convert:hover {\n",
              "      background-color: #E2EBFA;\n",
              "      box-shadow: 0px 1px 2px rgba(60, 64, 67, 0.3), 0px 1px 3px 1px rgba(60, 64, 67, 0.15);\n",
              "      fill: #174EA6;\n",
              "    }\n",
              "\n",
              "    [theme=dark] .colab-df-convert {\n",
              "      background-color: #3B4455;\n",
              "      fill: #D2E3FC;\n",
              "    }\n",
              "\n",
              "    [theme=dark] .colab-df-convert:hover {\n",
              "      background-color: #434B5C;\n",
              "      box-shadow: 0px 1px 3px 1px rgba(0, 0, 0, 0.15);\n",
              "      filter: drop-shadow(0px 1px 2px rgba(0, 0, 0, 0.3));\n",
              "      fill: #FFFFFF;\n",
              "    }\n",
              "  </style>\n",
              "\n",
              "      <script>\n",
              "        const buttonEl =\n",
              "          document.querySelector('#df-3754de3d-25c1-4531-9217-7a5d57069ca0 button.colab-df-convert');\n",
              "        buttonEl.style.display =\n",
              "          google.colab.kernel.accessAllowed ? 'block' : 'none';\n",
              "\n",
              "        async function convertToInteractive(key) {\n",
              "          const element = document.querySelector('#df-3754de3d-25c1-4531-9217-7a5d57069ca0');\n",
              "          const dataTable =\n",
              "            await google.colab.kernel.invokeFunction('convertToInteractive',\n",
              "                                                     [key], {});\n",
              "          if (!dataTable) return;\n",
              "\n",
              "          const docLinkHtml = 'Like what you see? Visit the ' +\n",
              "            '<a target=\"_blank\" href=https://colab.research.google.com/notebooks/data_table.ipynb>data table notebook</a>'\n",
              "            + ' to learn more about interactive tables.';\n",
              "          element.innerHTML = '';\n",
              "          dataTable['output_type'] = 'display_data';\n",
              "          await google.colab.output.renderOutput(dataTable, element);\n",
              "          const docLink = document.createElement('div');\n",
              "          docLink.innerHTML = docLinkHtml;\n",
              "          element.appendChild(docLink);\n",
              "        }\n",
              "      </script>\n",
              "    </div>\n",
              "  </div>\n",
              "  "
            ]
          },
          "metadata": {},
          "execution_count": 6
        }
      ],
      "source": [
        "pd.DataFrame(train)"
      ],
      "id": "d4f6aa51-d384-47cb-b34d-d012f6fad5da"
    },
    {
      "cell_type": "code",
      "execution_count": null,
      "metadata": {
        "colab": {
          "base_uri": "https://localhost:8080/",
          "height": 457
        },
        "id": "4a3ee806-5784-4ca9-8af0-285a37f4a980",
        "outputId": "c469a140-8684-4b95-a007-4139fb5aa4a0"
      },
      "outputs": [
        {
          "output_type": "execute_result",
          "data": {
            "text/plain": [
              "           0\n",
              "0   0.000554\n",
              "1   0.003739\n",
              "2   0.001985\n",
              "3   0.000000\n",
              "4   0.002308\n",
              "5   0.004293\n",
              "6   0.001846\n",
              "7   0.004200\n",
              "8   0.001062\n",
              "9   0.003970\n",
              "10  0.007847\n",
              "11  0.011216\n",
              "12  0.010524"
            ],
            "text/html": [
              "\n",
              "  <div id=\"df-3d78337a-8d51-4114-8a8d-56adbf3f3da6\">\n",
              "    <div class=\"colab-df-container\">\n",
              "      <div>\n",
              "<style scoped>\n",
              "    .dataframe tbody tr th:only-of-type {\n",
              "        vertical-align: middle;\n",
              "    }\n",
              "\n",
              "    .dataframe tbody tr th {\n",
              "        vertical-align: top;\n",
              "    }\n",
              "\n",
              "    .dataframe thead th {\n",
              "        text-align: right;\n",
              "    }\n",
              "</style>\n",
              "<table border=\"1\" class=\"dataframe\">\n",
              "  <thead>\n",
              "    <tr style=\"text-align: right;\">\n",
              "      <th></th>\n",
              "      <th>0</th>\n",
              "    </tr>\n",
              "  </thead>\n",
              "  <tbody>\n",
              "    <tr>\n",
              "      <th>0</th>\n",
              "      <td>0.000554</td>\n",
              "    </tr>\n",
              "    <tr>\n",
              "      <th>1</th>\n",
              "      <td>0.003739</td>\n",
              "    </tr>\n",
              "    <tr>\n",
              "      <th>2</th>\n",
              "      <td>0.001985</td>\n",
              "    </tr>\n",
              "    <tr>\n",
              "      <th>3</th>\n",
              "      <td>0.000000</td>\n",
              "    </tr>\n",
              "    <tr>\n",
              "      <th>4</th>\n",
              "      <td>0.002308</td>\n",
              "    </tr>\n",
              "    <tr>\n",
              "      <th>5</th>\n",
              "      <td>0.004293</td>\n",
              "    </tr>\n",
              "    <tr>\n",
              "      <th>6</th>\n",
              "      <td>0.001846</td>\n",
              "    </tr>\n",
              "    <tr>\n",
              "      <th>7</th>\n",
              "      <td>0.004200</td>\n",
              "    </tr>\n",
              "    <tr>\n",
              "      <th>8</th>\n",
              "      <td>0.001062</td>\n",
              "    </tr>\n",
              "    <tr>\n",
              "      <th>9</th>\n",
              "      <td>0.003970</td>\n",
              "    </tr>\n",
              "    <tr>\n",
              "      <th>10</th>\n",
              "      <td>0.007847</td>\n",
              "    </tr>\n",
              "    <tr>\n",
              "      <th>11</th>\n",
              "      <td>0.011216</td>\n",
              "    </tr>\n",
              "    <tr>\n",
              "      <th>12</th>\n",
              "      <td>0.010524</td>\n",
              "    </tr>\n",
              "  </tbody>\n",
              "</table>\n",
              "</div>\n",
              "      <button class=\"colab-df-convert\" onclick=\"convertToInteractive('df-3d78337a-8d51-4114-8a8d-56adbf3f3da6')\"\n",
              "              title=\"Convert this dataframe to an interactive table.\"\n",
              "              style=\"display:none;\">\n",
              "        \n",
              "  <svg xmlns=\"http://www.w3.org/2000/svg\" height=\"24px\"viewBox=\"0 0 24 24\"\n",
              "       width=\"24px\">\n",
              "    <path d=\"M0 0h24v24H0V0z\" fill=\"none\"/>\n",
              "    <path d=\"M18.56 5.44l.94 2.06.94-2.06 2.06-.94-2.06-.94-.94-2.06-.94 2.06-2.06.94zm-11 1L8.5 8.5l.94-2.06 2.06-.94-2.06-.94L8.5 2.5l-.94 2.06-2.06.94zm10 10l.94 2.06.94-2.06 2.06-.94-2.06-.94-.94-2.06-.94 2.06-2.06.94z\"/><path d=\"M17.41 7.96l-1.37-1.37c-.4-.4-.92-.59-1.43-.59-.52 0-1.04.2-1.43.59L10.3 9.45l-7.72 7.72c-.78.78-.78 2.05 0 2.83L4 21.41c.39.39.9.59 1.41.59.51 0 1.02-.2 1.41-.59l7.78-7.78 2.81-2.81c.8-.78.8-2.07 0-2.86zM5.41 20L4 18.59l7.72-7.72 1.47 1.35L5.41 20z\"/>\n",
              "  </svg>\n",
              "      </button>\n",
              "      \n",
              "  <style>\n",
              "    .colab-df-container {\n",
              "      display:flex;\n",
              "      flex-wrap:wrap;\n",
              "      gap: 12px;\n",
              "    }\n",
              "\n",
              "    .colab-df-convert {\n",
              "      background-color: #E8F0FE;\n",
              "      border: none;\n",
              "      border-radius: 50%;\n",
              "      cursor: pointer;\n",
              "      display: none;\n",
              "      fill: #1967D2;\n",
              "      height: 32px;\n",
              "      padding: 0 0 0 0;\n",
              "      width: 32px;\n",
              "    }\n",
              "\n",
              "    .colab-df-convert:hover {\n",
              "      background-color: #E2EBFA;\n",
              "      box-shadow: 0px 1px 2px rgba(60, 64, 67, 0.3), 0px 1px 3px 1px rgba(60, 64, 67, 0.15);\n",
              "      fill: #174EA6;\n",
              "    }\n",
              "\n",
              "    [theme=dark] .colab-df-convert {\n",
              "      background-color: #3B4455;\n",
              "      fill: #D2E3FC;\n",
              "    }\n",
              "\n",
              "    [theme=dark] .colab-df-convert:hover {\n",
              "      background-color: #434B5C;\n",
              "      box-shadow: 0px 1px 3px 1px rgba(0, 0, 0, 0.15);\n",
              "      filter: drop-shadow(0px 1px 2px rgba(0, 0, 0, 0.3));\n",
              "      fill: #FFFFFF;\n",
              "    }\n",
              "  </style>\n",
              "\n",
              "      <script>\n",
              "        const buttonEl =\n",
              "          document.querySelector('#df-3d78337a-8d51-4114-8a8d-56adbf3f3da6 button.colab-df-convert');\n",
              "        buttonEl.style.display =\n",
              "          google.colab.kernel.accessAllowed ? 'block' : 'none';\n",
              "\n",
              "        async function convertToInteractive(key) {\n",
              "          const element = document.querySelector('#df-3d78337a-8d51-4114-8a8d-56adbf3f3da6');\n",
              "          const dataTable =\n",
              "            await google.colab.kernel.invokeFunction('convertToInteractive',\n",
              "                                                     [key], {});\n",
              "          if (!dataTable) return;\n",
              "\n",
              "          const docLinkHtml = 'Like what you see? Visit the ' +\n",
              "            '<a target=\"_blank\" href=https://colab.research.google.com/notebooks/data_table.ipynb>data table notebook</a>'\n",
              "            + ' to learn more about interactive tables.';\n",
              "          element.innerHTML = '';\n",
              "          dataTable['output_type'] = 'display_data';\n",
              "          await google.colab.output.renderOutput(dataTable, element);\n",
              "          const docLink = document.createElement('div');\n",
              "          docLink.innerHTML = docLinkHtml;\n",
              "          element.appendChild(docLink);\n",
              "        }\n",
              "      </script>\n",
              "    </div>\n",
              "  </div>\n",
              "  "
            ]
          },
          "metadata": {},
          "execution_count": 7
        }
      ],
      "source": [
        "# original time-series\n",
        "orig = get_orig(train)\n",
        "\n",
        "pd.DataFrame(orig[0:13])"
      ],
      "id": "4a3ee806-5784-4ca9-8af0-285a37f4a980"
    },
    {
      "cell_type": "code",
      "execution_count": null,
      "metadata": {
        "colab": {
          "base_uri": "https://localhost:8080/",
          "height": 281
        },
        "id": "160216cf-4437-4075-987f-75359495af16",
        "outputId": "728ea981-5623-4a71-b81b-8a34f3efad3c"
      },
      "outputs": [
        {
          "output_type": "display_data",
          "data": {
            "text/plain": [
              "<Figure size 432x288 with 1 Axes>"
            ],
            "image/png": "[encoded data removed]"
          },
          "metadata": {
            "needs_background": "light"
          }
        }
      ],
      "source": [
        "plt.plot(orig)\n",
        "plt.title(\"Original Stock Signal\");"
      ],
      "id": "160216cf-4437-4075-987f-75359495af16"
    },
    {
      "cell_type": "code",
      "execution_count": null,
      "metadata": {
        "colab": {
          "base_uri": "https://localhost:8080/"
        },
        "id": "d6283325-7032-49fa-b23d-c05e27ed1d35",
        "outputId": "953002d2-f395-45a2-aed6-cff31847535b"
      },
      "outputs": [
        {
          "output_type": "execute_result",
          "data": {
            "text/plain": [
              "(804, 10)"
            ]
          },
          "metadata": {},
          "execution_count": 9
        }
      ],
      "source": [
        "train.shape"
      ],
      "id": "d6283325-7032-49fa-b23d-c05e27ed1d35"
    },
    {
      "cell_type": "code",
      "execution_count": null,
      "metadata": {
        "id": "d4b8af29-eb8d-445d-96fd-51637914aef3"
      },
      "outputs": [],
      "source": [
        "x_train = train[:, :timesteps]\n",
        "y_train = train[:, timesteps: timesteps + steps_ahead]\n",
        "xy_train = (x_train, y_train)"
      ],
      "id": "d4b8af29-eb8d-445d-96fd-51637914aef3"
    },
    {
      "cell_type": "code",
      "execution_count": null,
      "metadata": {
        "colab": {
          "base_uri": "https://localhost:8080/",
          "height": 424
        },
        "id": "8abc0da0-0ae3-414e-aa84-795ad45f1a49",
        "outputId": "b75583d9-9641-4e74-e25c-388c59561dce"
      },
      "outputs": [
        {
          "output_type": "execute_result",
          "data": {
            "text/plain": [
              "            0         1         2         3         4\n",
              "0    0.000554  0.003739  0.001985  0.000000  0.002308\n",
              "1    0.001985  0.000000  0.002308  0.004293  0.001846\n",
              "2    0.002308  0.004293  0.001846  0.004200  0.001062\n",
              "3    0.001846  0.004200  0.001062  0.003970  0.007847\n",
              "4    0.001062  0.003970  0.007847  0.011216  0.010524\n",
              "..        ...       ...       ...       ...       ...\n",
              "799  0.719476  0.720176  0.723407  0.705364  0.693515\n",
              "800  0.723407  0.705364  0.693515  0.701704  0.694112\n",
              "801  0.693515  0.701704  0.694112  0.709296  0.694166\n",
              "802  0.694112  0.709296  0.694166  0.692539  0.696552\n",
              "803  0.694166  0.692539  0.696552  0.694491  0.676650\n",
              "\n",
              "[804 rows x 5 columns]"
            ],
            "text/html": [
              "\n",
              "  <div id=\"df-be6a5051-498e-4ae3-9923-b95f4ead0091\">\n",
              "    <div class=\"colab-df-container\">\n",
              "      <div>\n",
              "<style scoped>\n",
              "    .dataframe tbody tr th:only-of-type {\n",
              "        vertical-align: middle;\n",
              "    }\n",
              "\n",
              "    .dataframe tbody tr th {\n",
              "        vertical-align: top;\n",
              "    }\n",
              "\n",
              "    .dataframe thead th {\n",
              "        text-align: right;\n",
              "    }\n",
              "</style>\n",
              "<table border=\"1\" class=\"dataframe\">\n",
              "  <thead>\n",
              "    <tr style=\"text-align: right;\">\n",
              "      <th></th>\n",
              "      <th>0</th>\n",
              "      <th>1</th>\n",
              "      <th>2</th>\n",
              "      <th>3</th>\n",
              "      <th>4</th>\n",
              "    </tr>\n",
              "  </thead>\n",
              "  <tbody>\n",
              "    <tr>\n",
              "      <th>0</th>\n",
              "      <td>0.000554</td>\n",
              "      <td>0.003739</td>\n",
              "      <td>0.001985</td>\n",
              "      <td>0.000000</td>\n",
              "      <td>0.002308</td>\n",
              "    </tr>\n",
              "    <tr>\n",
              "      <th>1</th>\n",
              "      <td>0.001985</td>\n",
              "      <td>0.000000</td>\n",
              "      <td>0.002308</td>\n",
              "      <td>0.004293</td>\n",
              "      <td>0.001846</td>\n",
              "    </tr>\n",
              "    <tr>\n",
              "      <th>2</th>\n",
              "      <td>0.002308</td>\n",
              "      <td>0.004293</td>\n",
              "      <td>0.001846</td>\n",
              "      <td>0.004200</td>\n",
              "      <td>0.001062</td>\n",
              "    </tr>\n",
              "    <tr>\n",
              "      <th>3</th>\n",
              "      <td>0.001846</td>\n",
              "      <td>0.004200</td>\n",
              "      <td>0.001062</td>\n",
              "      <td>0.003970</td>\n",
              "      <td>0.007847</td>\n",
              "    </tr>\n",
              "    <tr>\n",
              "      <th>4</th>\n",
              "      <td>0.001062</td>\n",
              "      <td>0.003970</td>\n",
              "      <td>0.007847</td>\n",
              "      <td>0.011216</td>\n",
              "      <td>0.010524</td>\n",
              "    </tr>\n",
              "    <tr>\n",
              "      <th>...</th>\n",
              "      <td>...</td>\n",
              "      <td>...</td>\n",
              "      <td>...</td>\n",
              "      <td>...</td>\n",
              "      <td>...</td>\n",
              "    </tr>\n",
              "    <tr>\n",
              "      <th>799</th>\n",
              "      <td>0.719476</td>\n",
              "      <td>0.720176</td>\n",
              "      <td>0.723407</td>\n",
              "      <td>0.705364</td>\n",
              "      <td>0.693515</td>\n",
              "    </tr>\n",
              "    <tr>\n",
              "      <th>800</th>\n",
              "      <td>0.723407</td>\n",
              "      <td>0.705364</td>\n",
              "      <td>0.693515</td>\n",
              "      <td>0.701704</td>\n",
              "      <td>0.694112</td>\n",
              "    </tr>\n",
              "    <tr>\n",
              "      <th>801</th>\n",
              "      <td>0.693515</td>\n",
              "      <td>0.701704</td>\n",
              "      <td>0.694112</td>\n",
              "      <td>0.709296</td>\n",
              "      <td>0.694166</td>\n",
              "    </tr>\n",
              "    <tr>\n",
              "      <th>802</th>\n",
              "      <td>0.694112</td>\n",
              "      <td>0.709296</td>\n",
              "      <td>0.694166</td>\n",
              "      <td>0.692539</td>\n",
              "      <td>0.696552</td>\n",
              "    </tr>\n",
              "    <tr>\n",
              "      <th>803</th>\n",
              "      <td>0.694166</td>\n",
              "      <td>0.692539</td>\n",
              "      <td>0.696552</td>\n",
              "      <td>0.694491</td>\n",
              "      <td>0.676650</td>\n",
              "    </tr>\n",
              "  </tbody>\n",
              "</table>\n",
              "<p>804 rows × 5 columns</p>\n",
              "</div>\n",
              "      <button class=\"colab-df-convert\" onclick=\"convertToInteractive('df-be6a5051-498e-4ae3-9923-b95f4ead0091')\"\n",
              "              title=\"Convert this dataframe to an interactive table.\"\n",
              "              style=\"display:none;\">\n",
              "        \n",
              "  <svg xmlns=\"http://www.w3.org/2000/svg\" height=\"24px\"viewBox=\"0 0 24 24\"\n",
              "       width=\"24px\">\n",
              "    <path d=\"M0 0h24v24H0V0z\" fill=\"none\"/>\n",
              "    <path d=\"M18.56 5.44l.94 2.06.94-2.06 2.06-.94-2.06-.94-.94-2.06-.94 2.06-2.06.94zm-11 1L8.5 8.5l.94-2.06 2.06-.94-2.06-.94L8.5 2.5l-.94 2.06-2.06.94zm10 10l.94 2.06.94-2.06 2.06-.94-2.06-.94-.94-2.06-.94 2.06-2.06.94z\"/><path d=\"M17.41 7.96l-1.37-1.37c-.4-.4-.92-.59-1.43-.59-.52 0-1.04.2-1.43.59L10.3 9.45l-7.72 7.72c-.78.78-.78 2.05 0 2.83L4 21.41c.39.39.9.59 1.41.59.51 0 1.02-.2 1.41-.59l7.78-7.78 2.81-2.81c.8-.78.8-2.07 0-2.86zM5.41 20L4 18.59l7.72-7.72 1.47 1.35L5.41 20z\"/>\n",
              "  </svg>\n",
              "      </button>\n",
              "      \n",
              "  <style>\n",
              "    .colab-df-container {\n",
              "      display:flex;\n",
              "      flex-wrap:wrap;\n",
              "      gap: 12px;\n",
              "    }\n",
              "\n",
              "    .colab-df-convert {\n",
              "      background-color: #E8F0FE;\n",
              "      border: none;\n",
              "      border-radius: 50%;\n",
              "      cursor: pointer;\n",
              "      display: none;\n",
              "      fill: #1967D2;\n",
              "      height: 32px;\n",
              "      padding: 0 0 0 0;\n",
              "      width: 32px;\n",
              "    }\n",
              "\n",
              "    .colab-df-convert:hover {\n",
              "      background-color: #E2EBFA;\n",
              "      box-shadow: 0px 1px 2px rgba(60, 64, 67, 0.3), 0px 1px 3px 1px rgba(60, 64, 67, 0.15);\n",
              "      fill: #174EA6;\n",
              "    }\n",
              "\n",
              "    [theme=dark] .colab-df-convert {\n",
              "      background-color: #3B4455;\n",
              "      fill: #D2E3FC;\n",
              "    }\n",
              "\n",
              "    [theme=dark] .colab-df-convert:hover {\n",
              "      background-color: #434B5C;\n",
              "      box-shadow: 0px 1px 3px 1px rgba(0, 0, 0, 0.15);\n",
              "      filter: drop-shadow(0px 1px 2px rgba(0, 0, 0, 0.3));\n",
              "      fill: #FFFFFF;\n",
              "    }\n",
              "  </style>\n",
              "\n",
              "      <script>\n",
              "        const buttonEl =\n",
              "          document.querySelector('#df-be6a5051-498e-4ae3-9923-b95f4ead0091 button.colab-df-convert');\n",
              "        buttonEl.style.display =\n",
              "          google.colab.kernel.accessAllowed ? 'block' : 'none';\n",
              "\n",
              "        async function convertToInteractive(key) {\n",
              "          const element = document.querySelector('#df-be6a5051-498e-4ae3-9923-b95f4ead0091');\n",
              "          const dataTable =\n",
              "            await google.colab.kernel.invokeFunction('convertToInteractive',\n",
              "                                                     [key], {});\n",
              "          if (!dataTable) return;\n",
              "\n",
              "          const docLinkHtml = 'Like what you see? Visit the ' +\n",
              "            '<a target=\"_blank\" href=https://colab.research.google.com/notebooks/data_table.ipynb>data table notebook</a>'\n",
              "            + ' to learn more about interactive tables.';\n",
              "          element.innerHTML = '';\n",
              "          dataTable['output_type'] = 'display_data';\n",
              "          await google.colab.output.renderOutput(dataTable, element);\n",
              "          const docLink = document.createElement('div');\n",
              "          docLink.innerHTML = docLinkHtml;\n",
              "          element.appendChild(docLink);\n",
              "        }\n",
              "      </script>\n",
              "    </div>\n",
              "  </div>\n",
              "  "
            ]
          },
          "metadata": {},
          "execution_count": 11
        }
      ],
      "source": [
        "pd.DataFrame(x_train)"
      ],
      "id": "8abc0da0-0ae3-414e-aa84-795ad45f1a49"
    },
    {
      "cell_type": "code",
      "execution_count": null,
      "metadata": {
        "colab": {
          "base_uri": "https://localhost:8080/",
          "height": 424
        },
        "id": "d7cb993f-2056-415a-a107-3a17014e43e4",
        "outputId": "671b40af-a454-4b23-8b52-f2d6f701731e"
      },
      "outputs": [
        {
          "output_type": "execute_result",
          "data": {
            "text/plain": [
              "            0         1         2         3         4\n",
              "0    0.004293  0.001846  0.004200  0.001062  0.003970\n",
              "1    0.004200  0.001062  0.003970  0.007847  0.011216\n",
              "2    0.003970  0.007847  0.011216  0.010524  0.010339\n",
              "3    0.011216  0.010524  0.010339  0.011816  0.014355\n",
              "4    0.010339  0.011816  0.014355  0.019432  0.018879\n",
              "..        ...       ...       ...       ...       ...\n",
              "799  0.701704  0.694112  0.709296  0.694166  0.692539\n",
              "800  0.709296  0.694166  0.692539  0.696552  0.694491\n",
              "801  0.692539  0.696552  0.694491  0.676650  0.692593\n",
              "802  0.694491  0.676650  0.692593  0.684730  0.697528\n",
              "803  0.692593  0.684730  0.697528  0.705500  0.706259\n",
              "\n",
              "[804 rows x 5 columns]"
            ],
            "text/html": [
              "\n",
              "  <div id=\"df-af56e8a3-51b7-4cff-ba74-4b43d5aee2b7\">\n",
              "    <div class=\"colab-df-container\">\n",
              "      <div>\n",
              "<style scoped>\n",
              "    .dataframe tbody tr th:only-of-type {\n",
              "        vertical-align: middle;\n",
              "    }\n",
              "\n",
              "    .dataframe tbody tr th {\n",
              "        vertical-align: top;\n",
              "    }\n",
              "\n",
              "    .dataframe thead th {\n",
              "        text-align: right;\n",
              "    }\n",
              "</style>\n",
              "<table border=\"1\" class=\"dataframe\">\n",
              "  <thead>\n",
              "    <tr style=\"text-align: right;\">\n",
              "      <th></th>\n",
              "      <th>0</th>\n",
              "      <th>1</th>\n",
              "      <th>2</th>\n",
              "      <th>3</th>\n",
              "      <th>4</th>\n",
              "    </tr>\n",
              "  </thead>\n",
              "  <tbody>\n",
              "    <tr>\n",
              "      <th>0</th>\n",
              "      <td>0.004293</td>\n",
              "      <td>0.001846</td>\n",
              "      <td>0.004200</td>\n",
              "      <td>0.001062</td>\n",
              "      <td>0.003970</td>\n",
              "    </tr>\n",
              "    <tr>\n",
              "      <th>1</th>\n",
              "      <td>0.004200</td>\n",
              "      <td>0.001062</td>\n",
              "      <td>0.003970</td>\n",
              "      <td>0.007847</td>\n",
              "      <td>0.011216</td>\n",
              "    </tr>\n",
              "    <tr>\n",
              "      <th>2</th>\n",
              "      <td>0.003970</td>\n",
              "      <td>0.007847</td>\n",
              "      <td>0.011216</td>\n",
              "      <td>0.010524</td>\n",
              "      <td>0.010339</td>\n",
              "    </tr>\n",
              "    <tr>\n",
              "      <th>3</th>\n",
              "      <td>0.011216</td>\n",
              "      <td>0.010524</td>\n",
              "      <td>0.010339</td>\n",
              "      <td>0.011816</td>\n",
              "      <td>0.014355</td>\n",
              "    </tr>\n",
              "    <tr>\n",
              "      <th>4</th>\n",
              "      <td>0.010339</td>\n",
              "      <td>0.011816</td>\n",
              "      <td>0.014355</td>\n",
              "      <td>0.019432</td>\n",
              "      <td>0.018879</td>\n",
              "    </tr>\n",
              "    <tr>\n",
              "      <th>...</th>\n",
              "      <td>...</td>\n",
              "      <td>...</td>\n",
              "      <td>...</td>\n",
              "      <td>...</td>\n",
              "      <td>...</td>\n",
              "    </tr>\n",
              "    <tr>\n",
              "      <th>799</th>\n",
              "      <td>0.701704</td>\n",
              "      <td>0.694112</td>\n",
              "      <td>0.709296</td>\n",
              "      <td>0.694166</td>\n",
              "      <td>0.692539</td>\n",
              "    </tr>\n",
              "    <tr>\n",
              "      <th>800</th>\n",
              "      <td>0.709296</td>\n",
              "      <td>0.694166</td>\n",
              "      <td>0.692539</td>\n",
              "      <td>0.696552</td>\n",
              "      <td>0.694491</td>\n",
              "    </tr>\n",
              "    <tr>\n",
              "      <th>801</th>\n",
              "      <td>0.692539</td>\n",
              "      <td>0.696552</td>\n",
              "      <td>0.694491</td>\n",
              "      <td>0.676650</td>\n",
              "      <td>0.692593</td>\n",
              "    </tr>\n",
              "    <tr>\n",
              "      <th>802</th>\n",
              "      <td>0.694491</td>\n",
              "      <td>0.676650</td>\n",
              "      <td>0.692593</td>\n",
              "      <td>0.684730</td>\n",
              "      <td>0.697528</td>\n",
              "    </tr>\n",
              "    <tr>\n",
              "      <th>803</th>\n",
              "      <td>0.692593</td>\n",
              "      <td>0.684730</td>\n",
              "      <td>0.697528</td>\n",
              "      <td>0.705500</td>\n",
              "      <td>0.706259</td>\n",
              "    </tr>\n",
              "  </tbody>\n",
              "</table>\n",
              "<p>804 rows × 5 columns</p>\n",
              "</div>\n",
              "      <button class=\"colab-df-convert\" onclick=\"convertToInteractive('df-af56e8a3-51b7-4cff-ba74-4b43d5aee2b7')\"\n",
              "              title=\"Convert this dataframe to an interactive table.\"\n",
              "              style=\"display:none;\">\n",
              "        \n",
              "  <svg xmlns=\"http://www.w3.org/2000/svg\" height=\"24px\"viewBox=\"0 0 24 24\"\n",
              "       width=\"24px\">\n",
              "    <path d=\"M0 0h24v24H0V0z\" fill=\"none\"/>\n",
              "    <path d=\"M18.56 5.44l.94 2.06.94-2.06 2.06-.94-2.06-.94-.94-2.06-.94 2.06-2.06.94zm-11 1L8.5 8.5l.94-2.06 2.06-.94-2.06-.94L8.5 2.5l-.94 2.06-2.06.94zm10 10l.94 2.06.94-2.06 2.06-.94-2.06-.94-.94-2.06-.94 2.06-2.06.94z\"/><path d=\"M17.41 7.96l-1.37-1.37c-.4-.4-.92-.59-1.43-.59-.52 0-1.04.2-1.43.59L10.3 9.45l-7.72 7.72c-.78.78-.78 2.05 0 2.83L4 21.41c.39.39.9.59 1.41.59.51 0 1.02-.2 1.41-.59l7.78-7.78 2.81-2.81c.8-.78.8-2.07 0-2.86zM5.41 20L4 18.59l7.72-7.72 1.47 1.35L5.41 20z\"/>\n",
              "  </svg>\n",
              "      </button>\n",
              "      \n",
              "  <style>\n",
              "    .colab-df-container {\n",
              "      display:flex;\n",
              "      flex-wrap:wrap;\n",
              "      gap: 12px;\n",
              "    }\n",
              "\n",
              "    .colab-df-convert {\n",
              "      background-color: #E8F0FE;\n",
              "      border: none;\n",
              "      border-radius: 50%;\n",
              "      cursor: pointer;\n",
              "      display: none;\n",
              "      fill: #1967D2;\n",
              "      height: 32px;\n",
              "      padding: 0 0 0 0;\n",
              "      width: 32px;\n",
              "    }\n",
              "\n",
              "    .colab-df-convert:hover {\n",
              "      background-color: #E2EBFA;\n",
              "      box-shadow: 0px 1px 2px rgba(60, 64, 67, 0.3), 0px 1px 3px 1px rgba(60, 64, 67, 0.15);\n",
              "      fill: #174EA6;\n",
              "    }\n",
              "\n",
              "    [theme=dark] .colab-df-convert {\n",
              "      background-color: #3B4455;\n",
              "      fill: #D2E3FC;\n",
              "    }\n",
              "\n",
              "    [theme=dark] .colab-df-convert:hover {\n",
              "      background-color: #434B5C;\n",
              "      box-shadow: 0px 1px 3px 1px rgba(0, 0, 0, 0.15);\n",
              "      filter: drop-shadow(0px 1px 2px rgba(0, 0, 0, 0.3));\n",
              "      fill: #FFFFFF;\n",
              "    }\n",
              "  </style>\n",
              "\n",
              "      <script>\n",
              "        const buttonEl =\n",
              "          document.querySelector('#df-af56e8a3-51b7-4cff-ba74-4b43d5aee2b7 button.colab-df-convert');\n",
              "        buttonEl.style.display =\n",
              "          google.colab.kernel.accessAllowed ? 'block' : 'none';\n",
              "\n",
              "        async function convertToInteractive(key) {\n",
              "          const element = document.querySelector('#df-af56e8a3-51b7-4cff-ba74-4b43d5aee2b7');\n",
              "          const dataTable =\n",
              "            await google.colab.kernel.invokeFunction('convertToInteractive',\n",
              "                                                     [key], {});\n",
              "          if (!dataTable) return;\n",
              "\n",
              "          const docLinkHtml = 'Like what you see? Visit the ' +\n",
              "            '<a target=\"_blank\" href=https://colab.research.google.com/notebooks/data_table.ipynb>data table notebook</a>'\n",
              "            + ' to learn more about interactive tables.';\n",
              "          element.innerHTML = '';\n",
              "          dataTable['output_type'] = 'display_data';\n",
              "          await google.colab.output.renderOutput(dataTable, element);\n",
              "          const docLink = document.createElement('div');\n",
              "          docLink.innerHTML = docLinkHtml;\n",
              "          element.appendChild(docLink);\n",
              "        }\n",
              "      </script>\n",
              "    </div>\n",
              "  </div>\n",
              "  "
            ]
          },
          "metadata": {},
          "execution_count": 12
        }
      ],
      "source": [
        "pd.DataFrame(y_train)"
      ],
      "id": "d7cb993f-2056-415a-a107-3a17014e43e4"
    },
    {
      "cell_type": "code",
      "execution_count": null,
      "metadata": {
        "colab": {
          "base_uri": "https://localhost:8080/",
          "height": 282
        },
        "id": "25d84c94-d09a-4fb6-8176-9acbbb067748",
        "outputId": "e4cb0b13-4107-4dc0-e1dd-18b655febf23"
      },
      "outputs": [
        {
          "output_type": "execute_result",
          "data": {
            "text/plain": [
              "[<matplotlib.lines.Line2D at 0x7f81863873d0>]"
            ]
          },
          "metadata": {},
          "execution_count": 13
        },
        {
          "output_type": "display_data",
          "data": {
            "text/plain": [
              "<Figure size 432x288 with 1 Axes>"
            ],
            "image/png": "[encoded data removed]"
          },
          "metadata": {
            "needs_background": "light"
          }
        }
      ],
      "source": [
        "plt.plot(get_orig(y_train))"
      ],
      "id": "25d84c94-d09a-4fb6-8176-9acbbb067748"
    },
    {
      "cell_type": "code",
      "execution_count": null,
      "metadata": {
        "colab": {
          "base_uri": "https://localhost:8080/"
        },
        "id": "7b744caa-7eee-4d0b-9fd0-5487ae8e6c5c",
        "outputId": "4537de07-3631-413f-8e35-e0fbda4dc956"
      },
      "outputs": [
        {
          "output_type": "execute_result",
          "data": {
            "text/plain": [
              "(804, 5)"
            ]
          },
          "metadata": {},
          "execution_count": 14
        }
      ],
      "source": [
        "x_train.shape"
      ],
      "id": "7b744caa-7eee-4d0b-9fd0-5487ae8e6c5c"
    },
    {
      "cell_type": "code",
      "execution_count": null,
      "metadata": {
        "colab": {
          "base_uri": "https://localhost:8080/"
        },
        "id": "bdc8eda2-4b20-4c7f-9a31-c553e5c0dcbb",
        "outputId": "2a8d6060-3e07-4da5-8554-3d012aa0c55f"
      },
      "outputs": [
        {
          "output_type": "execute_result",
          "data": {
            "text/plain": [
              "(804, 5)"
            ]
          },
          "metadata": {},
          "execution_count": 15
        }
      ],
      "source": [
        "y_train.shape"
      ],
      "id": "bdc8eda2-4b20-4c7f-9a31-c553e5c0dcbb"
    },
    {
      "cell_type": "code",
      "execution_count": null,
      "metadata": {
        "id": "feb1e4af-7146-4f72-8158-b3c862f0a07a"
      },
      "outputs": [],
      "source": [
        "## BNN training\n",
        "\n",
        "#could use any of the samplers modulo hyperparameters\n",
        "# sampler_fns = hmc_fns\n",
        "sampler_fns = langevin_fns\n",
        "#sampler_fns = mala_fns\n",
        "\n",
        "\n",
        "\n",
        "def net_fn(x):\n",
        "\n",
        "\tmlp = hk.Sequential([\n",
        "\t\thk.Linear(128, w_init=hk.initializers.Constant(0), \n",
        "\t\t\t\t\t   b_init=hk.initializers.Constant(0)), \n",
        "\t\tjnp.tanh, \n",
        "\t\thk.Linear(5,   w_init=hk.initializers.Constant(0), \n",
        "\t\t\t\t\t   b_init=hk.initializers.Constant(0))\n",
        "\t\t])\n",
        "\n",
        "\treturn mlp(x)"
      ],
      "id": "feb1e4af-7146-4f72-8158-b3c862f0a07a"
    },
    {
      "cell_type": "code",
      "execution_count": null,
      "metadata": {
        "id": "4084ea96-e52e-4761-8bd8-8a48d828246b"
      },
      "outputs": [],
      "source": [
        "lr = 1e-4\n",
        "reg = 0.1\n",
        "lik_var = 0.5\n",
        "\n",
        "net = hk.transform(net_fn)\n",
        "key = jax.random.PRNGKey(0)\n",
        "\n",
        "sampler_init, sampler_propose, sampler_accept, sampler_update, sampler_get_params = \\\n",
        "    sampler_fns(key, num_samples=30, step_size=lr, init_stddev=5.0)"
      ],
      "id": "4084ea96-e52e-4761-8bd8-8a48d828246b"
    },
    {
      "cell_type": "code",
      "execution_count": null,
      "metadata": {
        "id": "77ee855e-215d-4e9c-9ecd-273090e06e86"
      },
      "outputs": [],
      "source": [
        "def logprob(params, xy):\n",
        "    \"\"\" log posterior, assuming \n",
        "    P(params) ~ N(0,eta)\n",
        "    P(y|x, params) ~ N(f(x;params), lik_var)\n",
        "    \"\"\"\n",
        "    x, y = xy\n",
        "\n",
        "    preds = net.apply(params, None, x)\n",
        "    log_prior = - reg * sum(jnp.sum(jnp.square(p)) \n",
        "                        for p in jax.tree_leaves(params))\n",
        "    log_lik = - jnp.mean(jnp.square(preds - y)) / lik_var\n",
        "    return log_lik + log_prior\n",
        "\n",
        "@jax.jit\n",
        "def sampler_step(i, state, keys, batch):\n",
        "    # print(state)\n",
        "    # input()\n",
        "    params = sampler_get_params(state)\n",
        "    logp = lambda params:logprob(params, batch)\n",
        "    fx, dx = jax.vmap(jax.value_and_grad(logp))(params)\n",
        "\n",
        "    fx_prop, dx_prop = fx, dx\n",
        "    # fx_prop, prop_state, dx_prop, new_keys = fx, state, dx, keys\n",
        "    prop_state, keys = sampler_propose(i, dx, state, keys)\n",
        "\n",
        "    # for RK-langevin and MALA --- recompute gradients\n",
        "    #prop_params = sampler_get_params(prop_state)\n",
        "    #fx_prop, dx_prop = jax.vmap(jax.value_and_grad(logp))(prop_params)\n",
        "\n",
        "    # for HMC\n",
        "    prop_state, dx_prop, keys = state, dx, keys\n",
        "    for j in range(5): #5 iterations of the leapfrog integrator\n",
        "      prop_state, keys = \\\n",
        "      sampler_propose(i, dx_prop, prop_state, keys)\n",
        "\n",
        "      prop_params = sampler_get_params(prop_state)\n",
        "      fx_prop, dx_prop = jax.vmap(jax.value_and_grad(logp))(prop_params)\n",
        "\n",
        "    accept_idxs, keys = sampler_accept(\n",
        "        i, fx, fx_prop, dx, state, dx_prop, prop_state, keys\n",
        "    )\n",
        "    state, keys = sampler_update(\n",
        "        i, accept_idxs, dx, state, dx_prop, prop_state, keys\n",
        "    )\n",
        "\n",
        "\n",
        "    return state, keys"
      ],
      "id": "77ee855e-215d-4e9c-9ecd-273090e06e86"
    },
    {
      "cell_type": "code",
      "execution_count": null,
      "metadata": {
        "colab": {
          "base_uri": "https://localhost:8080/"
        },
        "id": "1b4682da-807e-4bbf-a7f3-0efe5157fed6",
        "outputId": "dfa3618f-9508-4142-9398-df9f14f6929f"
      },
      "outputs": [
        {
          "output_type": "stream",
          "name": "stderr",
          "text": [
            "/usr/local/lib/python3.8/dist-packages/haiku/_src/initializers.py:69: UserWarning: Explicitly requested dtype float64 requested in astype is not available, and will be truncated to dtype float32. To enable more dtypes, set the jax_enable_x64 configuration option or the JAX_ENABLE_X64 shell environment variable. See https://github.com/google/jax#current-gotchas for more.\n",
            "  return jnp.broadcast_to(jnp.asarray(self.constant), shape).astype(dtype)\n"
          ]
        }
      ],
      "source": [
        "# initialization\n",
        "params = net.init(jax.random.PRNGKey(42), x_train)\n",
        "sampler_state, sampler_keys = sampler_init(params)"
      ],
      "id": "1b4682da-807e-4bbf-a7f3-0efe5157fed6"
    },
    {
      "cell_type": "code",
      "execution_count": null,
      "metadata": {
        "colab": {
          "base_uri": "https://localhost:8080/"
        },
        "id": "f7c4d84e-9414-4f34-893f-f80dc645e692",
        "outputId": "4168a3b1-d10d-4b1a-fbd0-5ab4d778dac8"
      },
      "outputs": [
        {
          "output_type": "execute_result",
          "data": {
            "text/plain": [
              "(5, 128)"
            ]
          },
          "metadata": {},
          "execution_count": 20
        }
      ],
      "source": [
        "params['linear']['w'].shape"
      ],
      "id": "f7c4d84e-9414-4f34-893f-f80dc645e692"
    },
    {
      "cell_type": "code",
      "execution_count": null,
      "metadata": {
        "colab": {
          "background_save": true,
          "base_uri": "https://localhost:8080/"
        },
        "id": "caa9ed00-e7ca-4145-97bd-a050e4fdc8e8",
        "outputId": "096ae27f-a6a7-4ac9-f6ce-7057ac863193"
      },
      "outputs": [
        {
          "output_type": "stream",
          "name": "stderr",
          "text": [
            "\r  0%|          | 0/500000 [00:00<?, ?it/s]<ipython-input-18-34c999bbf60f>:10: FutureWarning: jax.tree_leaves is deprecated, and will be removed in a future release. Use jax.tree_util.tree_leaves instead.\n",
            "  for p in jax.tree_leaves(params))\n",
            "  2%|▏         | 8962/500000 [02:23<2:42:49, 50.26it/s]"
          ]
        }
      ],
      "source": [
        "#do the sampling\n",
        "niter = 500000\n",
        "train_logp = np.zeros(niter)\n",
        "for step in trange(niter):\n",
        "    # Training log\n",
        "    sampler_params = sampler_get_params(sampler_state)\n",
        "    logp = lambda params:logprob(params, xy_train)\n",
        "    train_logp[step] = jnp.mean(jax.vmap(logp)(sampler_params))\n",
        "    \n",
        "    sampler_state, sampler_keys = \\\n",
        "        sampler_step(step, sampler_state, sampler_keys, xy_train)\n",
        "\n",
        "\n",
        "sampler_params = sampler_get_params(sampler_state)"
      ],
      "id": "caa9ed00-e7ca-4145-97bd-a050e4fdc8e8"
    },
    {
      "cell_type": "code",
      "execution_count": null,
      "metadata": {
        "id": "31e8751a-b54f-47d4-b930-eb81446bddaa"
      },
      "outputs": [],
      "source": [
        "# Training log\n",
        "ftn, axtn = plt.subplots()\n",
        "axtn.plot(train_logp[1000:])\n",
        "axtn.set_xlabel(\"Iterations\")\n",
        "axtn.set_ylabel(\"Log likelihood\")\n",
        "#ftn.savefig(\"../img/training_MALA_{}-iter.pdf\".format(niter))"
      ],
      "id": "31e8751a-b54f-47d4-b930-eb81446bddaa"
    },
    {
      "cell_type": "code",
      "execution_count": null,
      "metadata": {
        "id": "7d8498cb-d609-488f-8120-235c2603871a"
      },
      "outputs": [],
      "source": [
        "outputs = jax.vmap(net.apply, in_axes=(0, None, None))(sampler_params, None, x_train)\n",
        "outputs.shape"
      ],
      "id": "7d8498cb-d609-488f-8120-235c2603871a"
    },
    {
      "cell_type": "code",
      "execution_count": null,
      "metadata": {
        "id": "1792bde1-5c37-4d34-bb82-275fb3e1aa94"
      },
      "outputs": [],
      "source": [
        "pred_lines = np.array([ get_orig(outputs[i,:,:]) for i in range(0, outputs.shape[0])])\n",
        "pred_lines.shape"
      ],
      "id": "1792bde1-5c37-4d34-bb82-275fb3e1aa94"
    },
    {
      "cell_type": "code",
      "execution_count": null,
      "metadata": {
        "id": "8bd4cbbc-96ca-4d66-97ac-9caecb65514f"
      },
      "outputs": [],
      "source": [
        "ms = jnp.mean(pred_lines, axis=0)\n",
        "ss = jnp.std(pred_lines, axis=0)\n",
        "\n",
        "lower, uper = ms-ss, ms+ss"
      ],
      "id": "8bd4cbbc-96ca-4d66-97ac-9caecb65514f"
    },
    {
      "cell_type": "code",
      "execution_count": null,
      "metadata": {
        "id": "9da63484-3690-4725-a09b-5c9be362b04b"
      },
      "outputs": [],
      "source": [
        "x = jax.device_put(outputs)"
      ],
      "id": "9da63484-3690-4725-a09b-5c9be362b04b"
    },
    {
      "cell_type": "code",
      "execution_count": null,
      "metadata": {
        "id": "20ec8ca4-f39c-4fef-b661-885ff83f25c8"
      },
      "outputs": [],
      "source": [
        "fmma, axmma = plt.subplots()\n",
        "axmma.plot(ms, label=\"Model average\")\n",
        "axmma.plot(orig, label=\"Ground truth\")\n",
        "for i in range(outputs.shape[0]):\n",
        "\t\taxmma.plot(get_orig(outputs[i,:,:]), color=\"gray\",alpha=0.04)\n",
        "axmma.set_xlabel(\"Time\")\n",
        "axmma.set_ylabel(\"A.U.\")\n",
        "axmma.set_title(\"MMM8 Prediction\")\n",
        "axmma.legend()\n",
        "#fmma.savefig(\"../img/prediction_MALA_{}-iter.pdf\".format(niter))"
      ],
      "id": "20ec8ca4-f39c-4fef-b661-885ff83f25c8"
    },
    {
      "cell_type": "code",
      "execution_count": null,
      "metadata": {
        "id": "f03e1115-302a-4f65-b8e3-6c896016483b"
      },
      "outputs": [],
      "source": [
        "f, ax = plt.subplots(1)\n",
        "for i in range(outputs.shape[0]):\n",
        "\t\tax.plot(outputs[i,:,0], alpha=0.25)\n",
        "ax.plot(ms, label=\"Mean\")\n",
        "ax.plot(y_train)"
      ],
      "id": "f03e1115-302a-4f65-b8e3-6c896016483b"
    },
    {
      "cell_type": "code",
      "execution_count": null,
      "metadata": {
        "id": "06f36f3f-e7e7-4a6b-a7f3-49619d5777f8"
      },
      "outputs": [],
      "source": [
        "plt.plot(y_train[:,0])"
      ],
      "id": "06f36f3f-e7e7-4a6b-a7f3-49619d5777f8"
    },
    {
      "cell_type": "code",
      "execution_count": null,
      "metadata": {
        "id": "KQSt_V1quNz_"
      },
      "outputs": [],
      "source": [],
      "id": "KQSt_V1quNz_"
    }
  ],
  "metadata": {
    "accelerator": "GPU",
    "colab": {
      "provenance": []
    },
    "gpuClass": "standard",
    "kernelspec": {
      "display_name": "Python 3",
      "language": "python",
      "name": "python3"
    },
    "language_info": {
      "codemirror_mode": {
        "name": "ipython",
        "version": 3
      },
      "file_extension": ".py",
      "mimetype": "text/x-python",
      "name": "python",
      "nbconvert_exporter": "python",
      "pygments_lexer": "ipython3",
      "version": "3.9.12"
    }
  },
  "nbformat": 4,
  "nbformat_minor": 5
}