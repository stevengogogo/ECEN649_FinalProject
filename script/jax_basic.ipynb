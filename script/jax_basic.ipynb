{
 "cells": [
  {
   "cell_type": "markdown",
   "id": "4e3cc465-0f90-4be3-b083-4e7a3462b3f7",
   "metadata": {},
   "source": [
    "# Introduction to Jax\n",
    "\n",
    "- Resource: https://jax.readthedocs.io/en/latest/notebooks/quickstart.html"
   ]
  },
  {
   "cell_type": "code",
   "execution_count": 33,
   "id": "98a17c8f-8d46-4556-a161-5ce2efff5c3f",
   "metadata": {},
   "outputs": [],
   "source": [
    "import jax.numpy as jnp\n",
    "import jax\n",
    "from jax import grad, jit, vmap\n",
    "from jax import random\n",
    "from jax import device_put"
   ]
  },
  {
   "cell_type": "code",
   "execution_count": 10,
   "id": "9262cc5d-c8fe-44b8-b601-0a3259428e09",
   "metadata": {},
   "outputs": [
    {
     "name": "stdout",
     "output_type": "stream",
     "text": [
      "[-0.3721109   0.26423115 -0.18252768 -0.7368197  -0.44030377 -0.1521442\n",
      " -0.67135346 -0.5908641   0.73168886  0.5673026 ]\n"
     ]
    }
   ],
   "source": [
    "key = random.PRNGKey(0)\n",
    "x = random.normal(key, (10,))\n",
    "print(x)"
   ]
  },
  {
   "cell_type": "code",
   "execution_count": 11,
   "id": "ec969274-a40f-403b-8698-65961bb90491",
   "metadata": {},
   "outputs": [],
   "source": [
    "size = 3000\n",
    "x = random.normal(key, (size, size), dtype=jnp.float32)\n",
    "x = device_put(x) # copy values back to CPU"
   ]
  },
  {
   "cell_type": "code",
   "execution_count": 21,
   "id": "de61e921-7763-4f67-97c6-16d618be49e4",
   "metadata": {},
   "outputs": [
    {
     "name": "stdout",
     "output_type": "stream",
     "text": [
      "1.63 ms ± 182 µs per loop (mean ± std. dev. of 7 runs, 1,000 loops each)\n"
     ]
    }
   ],
   "source": [
    "def selu(x, alpha=1.67, lmbda=1.05):\n",
    "    return lmbda * jnp.where(x > 0, x, alpha * jnp.exp(x) - alpha)\n",
    "\n",
    "x = random.normal(key, (1000000,))\n",
    "%timeit selu(x).block_until_ready()"
   ]
  },
  {
   "cell_type": "code",
   "execution_count": 22,
   "id": "8c13643c-ee05-43f6-a416-51f4125f3e40",
   "metadata": {},
   "outputs": [
    {
     "name": "stdout",
     "output_type": "stream",
     "text": [
      "360 µs ± 11.6 µs per loop (mean ± std. dev. of 7 runs, 1,000 loops each)\n"
     ]
    }
   ],
   "source": [
    "selu_jit = jit(selu)\n",
    "%timeit selu_jit(x).block_until_ready()"
   ]
  },
  {
   "cell_type": "markdown",
   "id": "e30bcccc-a7b7-4d4e-ba80-15af68cc3f36",
   "metadata": {},
   "source": [
    "## Automatic differentition\n",
    "\n",
    "1. `grad()`\n",
    "2. `jax.vjp`: reverse-mode vetor-jacobian products\n",
    "3. `jax.jvp`: Forward-mode jacobian-vector products"
   ]
  },
  {
   "cell_type": "markdown",
   "id": "24427ab9-1731-4d87-95a9-b7a0ef75e225",
   "metadata": {},
   "source": [
    "## Index update"
   ]
  },
  {
   "cell_type": "code",
   "execution_count": 25,
   "id": "7db67a8a-501a-476f-9f71-b15feb3fdcdb",
   "metadata": {},
   "outputs": [],
   "source": [
    "x = jnp.arange(10)\n",
    "y = x.at[0].set(0)"
   ]
  },
  {
   "cell_type": "code",
   "execution_count": 27,
   "id": "9b339392-75f8-472c-9021-ed3584462a9f",
   "metadata": {},
   "outputs": [
    {
     "name": "stdout",
     "output_type": "stream",
     "text": [
      "[[1. 1. 1. 1. 1. 1.]\n",
      " [1. 1. 1. 1. 1. 1.]\n",
      " [1. 1. 1. 1. 1. 1.]\n",
      " [1. 1. 1. 1. 1. 1.]\n",
      " [1. 1. 1. 1. 1. 1.]]\n"
     ]
    }
   ],
   "source": [
    "jax_array = jnp.ones((5,6))\n",
    "print(jax_array)"
   ]
  },
  {
   "cell_type": "code",
   "execution_count": 28,
   "id": "f21dfaeb-68e1-478c-8636-84227cd33515",
   "metadata": {},
   "outputs": [
    {
     "name": "stdout",
     "output_type": "stream",
     "text": [
      "[[1. 1. 1. 8. 8. 8.]\n",
      " [1. 1. 1. 1. 1. 1.]\n",
      " [1. 1. 1. 8. 8. 8.]\n",
      " [1. 1. 1. 1. 1. 1.]\n",
      " [1. 1. 1. 8. 8. 8.]]\n"
     ]
    }
   ],
   "source": [
    "new_jax_array = jax_array.at[::2, 3:].add(7.)\n",
    "print(new_jax_array)"
   ]
  },
  {
   "cell_type": "markdown",
   "id": "edd33ef9-969b-42e8-9973-01e014d18777",
   "metadata": {},
   "source": [
    "## Linear regression"
   ]
  },
  {
   "cell_type": "code",
   "execution_count": 29,
   "id": "41e0c0c7-72bb-4b85-824a-e48bcb07d8cf",
   "metadata": {},
   "outputs": [],
   "source": [
    "import numpy as np\n",
    "import matplotlib.pyplot as plt"
   ]
  },
  {
   "cell_type": "code",
   "execution_count": 30,
   "id": "9dc57769-9b6a-4cef-98e0-f5498fe9a210",
   "metadata": {},
   "outputs": [
    {
     "data": {
      "image/png": "[encoded data removed]",
      "text/plain": [
       "<Figure size 432x288 with 1 Axes>"
      ]
     },
     "metadata": {
      "needs_background": "light"
     },
     "output_type": "display_data"
    }
   ],
   "source": [
    "xs = np.random.normal(size=(100,))\n",
    "noise = np.random.normal(scale=0.1, size=(100,))\n",
    "ys = xs * 3 - 1 + noise\n",
    "\n",
    "plt.scatter(xs, ys);"
   ]
  },
  {
   "cell_type": "code",
   "execution_count": 31,
   "id": "deb7d860-2e65-4b3d-be6c-dfff598af787",
   "metadata": {},
   "outputs": [],
   "source": [
    "def model(theta, x):\n",
    "    w, b = theta\n",
    "    return w*x + b\n",
    "\n",
    "def loss_fn(theta, x, y):\n",
    "    prediction = model(theta,x)\n",
    "    return jnp.mean((prediction - y)**2)\n",
    "\n",
    "def update(theta, x, y, lr=0.1):\n",
    "    return theta - lr * jax.grad(loss_fn)(theta, x, y)\n"
   ]
  },
  {
   "cell_type": "code",
   "execution_count": 34,
   "id": "0f5adf58-23e0-4b64-a9cb-cc44bdfc7979",
   "metadata": {},
   "outputs": [
    {
     "data": {
      "image/png": "[encoded data removed]",
      "text/plain": [
       "<Figure size 432x288 with 1 Axes>"
      ]
     },
     "metadata": {
      "needs_background": "light"
     },
     "output_type": "display_data"
    }
   ],
   "source": [
    "theta = jnp.array([1.,1.])\n",
    "\n",
    "for _ in range(1000):\n",
    "    theta = update(theta, xs, ys)\n",
    "\n",
    "plt.scatter(xs, ys)\n",
    "plt.plot(xs, model(theta, xs))\n",
    "\n",
    "w, b = theta"
   ]
  },
  {
   "cell_type": "code",
   "execution_count": null,
   "id": "6c8fde2d-92b5-48c1-86d5-0e50a4e1338c",
   "metadata": {},
   "outputs": [],
   "source": []
  }
 ],
 "metadata": {
  "kernelspec": {
   "display_name": "Python 3",
   "language": "python",
   "name": "python3"
  },
  "language_info": {
   "codemirror_mode": {
    "name": "ipython",
    "version": 3
   },
   "file_extension": ".py",
   "mimetype": "text/x-python",
   "name": "python",
   "nbconvert_exporter": "python",
   "pygments_lexer": "ipython3",
   "version": "3.9.12"
  }
 },
 "nbformat": 4,
 "nbformat_minor": 5
}
