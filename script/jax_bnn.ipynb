{
 "cells": [
  {
   "cell_type": "markdown",
   "id": "8a5ad1d0-eb9c-4dcb-a597-a65c8749ab5d",
   "metadata": {},
   "source": [
    "# Bayesian Neural Network with Jax\n",
    "\n",
    "- Resources: https://github.com/jamesvuc/jax-bayes"
   ]
  },
  {
   "cell_type": "code",
   "execution_count": 29,
   "id": "7cfe0fa7-5a3e-44e5-a382-59027d3a0294",
   "metadata": {},
   "outputs": [],
   "source": [
    "# %%\n",
    "import numpy as np\n",
    "np.random.seed(0)\n",
    "\n",
    "import haiku as hk\n",
    "\n",
    "import jax.numpy as jnp\n",
    "import jax\n",
    "\n",
    "from tqdm import tqdm, trange\n",
    "from matplotlib import pyplot as plt\n",
    "\n",
    "from jax_bayes.utils import confidence_bands\n",
    "from jax_bayes.mcmc import (\n",
    "\t# langevin_fns,\n",
    "\tmala_fns,\n",
    "\t# hmc_fns,\n",
    ")\n",
    "\n",
    "#could use any of the samplers modulo hyperparameters\n",
    "# sampler_fns = hmc_fns\n",
    "# sampler_fns = langevin_fns\n",
    "sampler_fns = mala_fns\n",
    "\n",
    "def build_dataset():\n",
    "\tn_train, n_test, d = 200, 100, 1\n",
    "\txlims = [-1.0, 5.0]\n",
    "\tx_train = np.random.rand(n_train, d) * (xlims[1] - xlims[0]) + xlims[0]\n",
    "\tx_test = np.random.rand(n_test, d) * (xlims[1] - xlims[0]) + xlims[0]\n",
    "\n",
    "\ttarget_func = lambda t: (np.log(t + 100.0) * np.sin(1.0 * np.pi*t)) + 0.1 * t\n",
    "\n",
    "\ty_train = target_func(x_train)\n",
    "\ty_test = target_func(x_test)\n",
    "\n",
    "\ty_train += np.random.randn(*x_train.shape) * (1.0 * (x_train + 2.0)**0.5)\n",
    "\n",
    "\treturn (x_train, y_train), (x_test, y_test)\n",
    "\n",
    "def net_fn(x):\n",
    "\n",
    "\tmlp = hk.Sequential([\n",
    "\t\thk.Linear(128, w_init=hk.initializers.Constant(0), \n",
    "\t\t\t\t\t   b_init=hk.initializers.Constant(0)), \n",
    "\t\tjnp.tanh, \n",
    "\t\thk.Linear(1,   w_init=hk.initializers.Constant(0), \n",
    "\t\t\t\t\t   b_init=hk.initializers.Constant(0))\n",
    "\t\t])\n",
    "\n",
    "\treturn mlp(x)"
   ]
  },
  {
   "cell_type": "code",
   "execution_count": 30,
   "id": "be3467ce-77ba-4ecd-81ac-dfc8ce0ba60b",
   "metadata": {},
   "outputs": [],
   "source": [
    "# ======= Setup =======\n",
    "xy_train, xy_test = build_dataset()\n",
    "(x_train, y_train), (x_test, y_test) = xy_train, xy_test"
   ]
  },
  {
   "cell_type": "code",
   "execution_count": 31,
   "id": "d6152c18-9c18-4ffe-ac7b-132306ab3169",
   "metadata": {},
   "outputs": [
    {
     "data": {
      "text/plain": [
       "(200, 1)"
      ]
     },
     "execution_count": 31,
     "metadata": {},
     "output_type": "execute_result"
    }
   ],
   "source": [
    "x_train.shape"
   ]
  },
  {
   "cell_type": "code",
   "execution_count": 32,
   "id": "db453c7b-e945-466b-aeef-17ed18c797a5",
   "metadata": {},
   "outputs": [
    {
     "data": {
      "text/plain": [
       "(200, 1)"
      ]
     },
     "execution_count": 32,
     "metadata": {},
     "output_type": "execute_result"
    }
   ],
   "source": [
    "y_train.shape"
   ]
  },
  {
   "cell_type": "code",
   "execution_count": 33,
   "id": "dfc2c9eb-791a-4e78-a0c2-bd546ffed06e",
   "metadata": {},
   "outputs": [
    {
     "data": {
      "text/plain": [
       "(100, 1)"
      ]
     },
     "execution_count": 33,
     "metadata": {},
     "output_type": "execute_result"
    }
   ],
   "source": [
    "x_test.shape"
   ]
  },
  {
   "cell_type": "code",
   "execution_count": 63,
   "id": "743b07eb-3a0d-4b22-bd5b-95d046061a6e",
   "metadata": {},
   "outputs": [],
   "source": [
    "# lr = 1e-3\n",
    "# reg = 0.1\n",
    "# lik_var = 0.5\n",
    "\n",
    "# lr = 1e-1\n",
    "lr = 1e-4\n",
    "reg = 0.1\n",
    "lik_var = 0.5\n",
    "\n",
    "net = hk.transform(net_fn)\n",
    "key = jax.random.PRNGKey(0)\n",
    "\n",
    "sampler_init, sampler_propose, sampler_accept, sampler_update, sampler_get_params = \\\n",
    "    sampler_fns(key, num_samples=11, step_size=lr, init_stddev=5.0)"
   ]
  },
  {
   "cell_type": "code",
   "execution_count": 64,
   "id": "09cb1287-dcf6-4414-ad68-dd82c2ed19c2",
   "metadata": {},
   "outputs": [],
   "source": [
    "def logprob(params, xy):\n",
    "    \"\"\" log posterior, assuming \n",
    "    P(params) ~ N(0,eta)\n",
    "    P(y|x, params) ~ N(f(x;params), lik_var)\n",
    "    \"\"\"\n",
    "    x, y = xy\n",
    "\n",
    "    preds = net.apply(params, None, x)\n",
    "    log_prior = - reg * sum(jnp.sum(jnp.square(p)) \n",
    "                        for p in jax.tree_leaves(params))\n",
    "    log_lik = - jnp.mean(jnp.square(preds - y)) / lik_var\n",
    "    return log_lik + log_prior\n",
    "\n",
    "@jax.jit\n",
    "def sampler_step(i, state, keys, batch):\n",
    "    # print(state)\n",
    "    # input()\n",
    "    params = sampler_get_params(state)\n",
    "    logp = lambda params:logprob(params, batch)\n",
    "    fx, dx = jax.vmap(jax.value_and_grad(logp))(params)\n",
    "\n",
    "    fx_prop, dx_prop = fx, dx\n",
    "    # fx_prop, prop_state, dx_prop, new_keys = fx, state, dx, keys\n",
    "    prop_state, keys = sampler_propose(i, dx, state, keys)\n",
    "\n",
    "    # for RK-langevin and MALA --- recompute gradients\n",
    "    prop_params = sampler_get_params(prop_state)\n",
    "    fx_prop, dx_prop = jax.vmap(jax.value_and_grad(logp))(prop_params)\n",
    "\n",
    "    # for HMC\n",
    "    # prop_state, dx_prop, keys = state, dx, keys\n",
    "    # for j in range(5): #5 iterations of the leapfrog integrator\n",
    "    # \tprop_state, keys = \\\n",
    "    # \t\tsampler_propose(i, dx_prop, prop_state, keys)\n",
    "\n",
    "    # \tprop_params = sampler_get_params(prop_state)\n",
    "    # \tfx_prop, dx_prop = jax.vmap(jax.value_and_grad(logp))(prop_params)\n",
    "\n",
    "    accept_idxs, keys = sampler_accept(\n",
    "        i, fx, fx_prop, dx, state, dx_prop, prop_state, keys\n",
    "    )\n",
    "    state, keys = sampler_update(\n",
    "        i, accept_idxs, dx, state, dx_prop, prop_state, keys\n",
    "    )\n",
    "\n",
    "\n",
    "    return state, keys"
   ]
  },
  {
   "cell_type": "code",
   "execution_count": 65,
   "id": "a64d4e99-bfeb-448d-9747-77813400bc4e",
   "metadata": {},
   "outputs": [],
   "source": [
    "# ======= Sampling ======\n",
    "\n",
    "# initialization\n",
    "params = net.init(jax.random.PRNGKey(42), x_train)"
   ]
  },
  {
   "cell_type": "code",
   "execution_count": 66,
   "id": "d78169f7-e15b-49e9-9b78-cc3044fa15bd",
   "metadata": {},
   "outputs": [
    {
     "data": {
      "text/plain": [
       "(1, 128)"
      ]
     },
     "execution_count": 66,
     "metadata": {},
     "output_type": "execute_result"
    }
   ],
   "source": [
    "params['linear']['w'].shape"
   ]
  },
  {
   "cell_type": "code",
   "execution_count": 67,
   "id": "fa48cbe2-c2b2-4dde-aa99-76e316185de3",
   "metadata": {},
   "outputs": [],
   "source": [
    "sampler_state, sampler_keys = sampler_init(params)"
   ]
  },
  {
   "cell_type": "code",
   "execution_count": 68,
   "id": "a82b6681-d64d-4c2d-bb08-09086ea14874",
   "metadata": {},
   "outputs": [
    {
     "name": "stderr",
     "output_type": "stream",
     "text": [
      "  0%|          | 0/5000 [00:00<?, ?it/s]<ipython-input-64-34c999bbf60f>:10: FutureWarning: jax.tree_leaves is deprecated, and will be removed in a future release. Use jax.tree_util.tree_leaves instead.\n",
      "  for p in jax.tree_leaves(params))\n",
      "100%|██████████| 5000/5000 [00:07<00:00, 640.63it/s]\n"
     ]
    }
   ],
   "source": [
    "#do the sampling\n",
    "for step in trange(5000):\n",
    "    sampler_state, sampler_keys = \\\n",
    "        sampler_step(step, sampler_state, sampler_keys, xy_train)\n",
    "\n",
    "\n",
    "sampler_params = sampler_get_params(sampler_state)"
   ]
  },
  {
   "cell_type": "code",
   "execution_count": 69,
   "id": "09687f9d-772b-48ef-9978-8fb752c6bc0c",
   "metadata": {},
   "outputs": [
    {
     "data": {
      "text/plain": [
       "(11, 1, 128)"
      ]
     },
     "execution_count": 69,
     "metadata": {},
     "output_type": "execute_result"
    }
   ],
   "source": [
    "sampler_params['linear']['w'].shape"
   ]
  },
  {
   "cell_type": "code",
   "execution_count": 75,
   "id": "e396cabb-db8d-4f77-89d2-3b0967e06535",
   "metadata": {},
   "outputs": [],
   "source": [
    "# ========= Plotting ========\n",
    "plot_inputs = np.linspace(-1, 30, num=600).reshape(-1,1)\n",
    "outputs = jax.vmap(net.apply, in_axes=(0, None, None))(sampler_params, None, plot_inputs)"
   ]
  },
  {
   "cell_type": "code",
   "execution_count": 76,
   "id": "385e173e-bfa1-4d55-b383-99047eba8ef0",
   "metadata": {},
   "outputs": [
    {
     "data": {
      "text/plain": [
       "(600, 1)"
      ]
     },
     "execution_count": 76,
     "metadata": {},
     "output_type": "execute_result"
    }
   ],
   "source": [
    "plot_inputs.shape"
   ]
  },
  {
   "cell_type": "code",
   "execution_count": 77,
   "id": "3a0ee10d-152f-421d-a5b2-e539af6c00de",
   "metadata": {},
   "outputs": [
    {
     "data": {
      "text/plain": [
       "(11, 600, 1)"
      ]
     },
     "execution_count": 77,
     "metadata": {},
     "output_type": "execute_result"
    }
   ],
   "source": [
    "outputs.shape"
   ]
  },
  {
   "cell_type": "code",
   "execution_count": 78,
   "id": "f463d89d-f96e-4dd0-8c16-6df576a4e128",
   "metadata": {},
   "outputs": [
    {
     "data": {
      "text/plain": [
       "(600, 11)"
      ]
     },
     "execution_count": 78,
     "metadata": {},
     "output_type": "execute_result"
    }
   ],
   "source": [
    "outputs.squeeze(-1).T.shape"
   ]
  },
  {
   "cell_type": "code",
   "execution_count": 79,
   "id": "a18df871-cc9e-41ec-8e7e-8fcf5a0e8da3",
   "metadata": {},
   "outputs": [
    {
     "data": {
      "image/png": "[encoded data removed]",
      "text/plain": [
       "<Figure size 432x288 with 1 Axes>"
      ]
     },
     "metadata": {
      "needs_background": "light"
     },
     "output_type": "display_data"
    }
   ],
   "source": [
    "lower, upper = confidence_bands(outputs.squeeze(-1).T)\n",
    "\n",
    "f, ax = plt.subplots(1)\n",
    "\n",
    "ax.plot(x_train.ravel(), y_train.ravel(), 'x', color='green')\n",
    "ax.plot(x_test.ravel(), y_test.ravel(), 'x', color='red')\n",
    "for i in range(outputs.shape[0]):\n",
    "    ax.plot(plot_inputs, outputs[i], alpha=0.25)\n",
    "ax.plot(plot_inputs, np.mean(outputs[:, :, 0].T, axis=1), color='black', \n",
    "        linewidth=1.0)\n",
    "ax.fill_between(plot_inputs.squeeze(-1), lower, upper, alpha=0.75)\n",
    "\n",
    "ax.set_ylim(-10, 15)\n",
    "\n",
    "plt.show()"
   ]
  },
  {
   "cell_type": "code",
   "execution_count": null,
   "id": "e7afc7fc-9024-42c4-b9f4-759ce012e445",
   "metadata": {},
   "outputs": [],
   "source": []
  }
 ],
 "metadata": {
  "kernelspec": {
   "display_name": "Python 3",
   "language": "python",
   "name": "python3"
  },
  "language_info": {
   "codemirror_mode": {
    "name": "ipython",
    "version": 3
   },
   "file_extension": ".py",
   "mimetype": "text/x-python",
   "name": "python",
   "nbconvert_exporter": "python",
   "pygments_lexer": "ipython3",
   "version": "3.9.12"
  }
 },
 "nbformat": 4,
 "nbformat_minor": 5
}
